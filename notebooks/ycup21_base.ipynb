{
 "cells": [
  {
   "cell_type": "code",
   "execution_count": 1,
   "id": "downtown-catering",
   "metadata": {},
   "outputs": [
    {
     "name": "stdout",
     "output_type": "stream",
     "text": [
      "/Users/michaelka/Developer/ml/projects/ycup21\r\n"
     ]
    }
   ],
   "source": [
    "!pwd"
   ]
  },
  {
   "cell_type": "code",
   "execution_count": 2,
   "id": "aerial-duncan",
   "metadata": {},
   "outputs": [
    {
     "data": {
      "text/plain": [
       "False"
      ]
     },
     "execution_count": 2,
     "metadata": {},
     "output_type": "execute_result"
    }
   ],
   "source": [
    "import sys\n",
    "IN_COLAB = 'google.colab' in sys.modules\n",
    "IN_COLAB"
   ]
  },
  {
   "cell_type": "markdown",
   "id": "beneficial-parker",
   "metadata": {},
   "source": [
    "# Load data"
   ]
  },
  {
   "cell_type": "code",
   "execution_count": 25,
   "id": "psychological-lawsuit",
   "metadata": {},
   "outputs": [],
   "source": [
    "if IN_COLAB:\n",
    "    metadata_file = '/content/'\n",
    "    images_directory = './content/images/'\n",
    "else:\n",
    "    metadata_file = './data/metadata.json'\n",
    "    images_directory = './images/images'"
   ]
  },
  {
   "cell_type": "code",
   "execution_count": 120,
   "id": "southeast-sunrise",
   "metadata": {},
   "outputs": [],
   "source": [
    "import torch\n",
    "from torch import nn\n",
    "\n",
    "from torchvision import transforms\n",
    "from torch.utils.data import Dataset\n",
    "from torch.utils.data import DataLoader"
   ]
  },
  {
   "cell_type": "code",
   "execution_count": 50,
   "id": "relevant-death",
   "metadata": {},
   "outputs": [],
   "source": [
    "import numpy as np\n",
    "from PIL import Image\n",
    "from pathlib import Path\n",
    "from tqdm.auto import tqdm\n",
    "import jsonlines\n",
    "import os\n",
    "import json"
   ]
  },
  {
   "cell_type": "code",
   "execution_count": 82,
   "id": "seventh-textbook",
   "metadata": {},
   "outputs": [],
   "source": [
    "def get_image_transform(randomize: bool):\n",
    "    normalize = transforms.Normalize(\n",
    "        mean=[0.485, 0.456, 0.406],\n",
    "        std=[0.229, 0.224, 0.225]\n",
    "    )\n",
    "    if randomize:\n",
    "        return transforms.Compose([\n",
    "            transforms.RandomResizedCrop(224),\n",
    "            transforms.RandomHorizontalFlip(),\n",
    "            transforms.ToTensor(),\n",
    "            normalize,\n",
    "        ])\n",
    "    else:\n",
    "        return transforms.Compose([\n",
    "#             transforms.Resize(256),\n",
    "#             transforms.CenterCrop(224),\n",
    "            transforms.ToTensor(),\n",
    "            normalize\n",
    "        ])"
   ]
  },
  {
   "cell_type": "code",
   "execution_count": 46,
   "id": "handled-transformation",
   "metadata": {},
   "outputs": [],
   "source": [
    "class I2TDataset(Dataset):\n",
    "    def __init__(\n",
    "        self,\n",
    "        metadata_file,\n",
    "        images_directory,\n",
    "        tokenizer,\n",
    "        read_jsonlines = True,\n",
    "        start = 0,\n",
    "        end = None,\n",
    "        randomize = True,\n",
    "        tqdm_load = False\n",
    "    ):\n",
    "        super().__init__()\n",
    "        self.data = []\n",
    "        \n",
    "        if read_jsonlines:\n",
    "            with jsonlines.open(metadata_file) as reader:\n",
    "                if tqdm_load:\n",
    "                    reader = tqdm(reader)\n",
    "                for obj in reader:\n",
    "                    self.data.append((obj['image'], obj['queries']))\n",
    "            self.data = self.data[slice(start, end)]\n",
    "        else:\n",
    "            with open(metadata_file) as json_file:\n",
    "                json_strings = json_file.readlines()\n",
    "            for json_string in json_strings[start:end]:\n",
    "                metadata = json.loads(json_string)\n",
    "                self.data.append((metadata['image'], metadata['queries']))            \n",
    "\n",
    "        self.images_directory = Path(images_directory)\n",
    "        self.randomize = randomize\n",
    "        self.image_transform = get_image_transform(randomize=randomize)\n",
    "        self.tokenizer = tokenizer\n",
    "\n",
    "    def __len__(self):\n",
    "        return len(self.data)\n",
    "\n",
    "    def __getitem__(self, idx: int):\n",
    "        img, texts = self.data[idx]\n",
    "        img = Image.open((self.images_directory / f'image_{img}').with_suffix('.jpg'))\n",
    "        img = img.convert('RGB')\n",
    "        img = self.image_transform(img)\n",
    "        if self.randomize:\n",
    "            text = np.random.choice(texts)\n",
    "        else:\n",
    "            text = texts[0]\n",
    "        return {'image': img, 'text': self.tokenizer.encode_ids(text)}\n",
    "\n",
    "    @staticmethod\n",
    "    def collate_fn(items):\n",
    "        return {\n",
    "            'image': default_collate([x['image'] for x in items]),\n",
    "            'text': text_collate_fn([x['text'] for x in items])\n",
    "        }"
   ]
  },
  {
   "cell_type": "code",
   "execution_count": 29,
   "id": "nutritional-record",
   "metadata": {},
   "outputs": [],
   "source": [
    "with open(metadata_file) as json_file:\n",
    "    json_strings = json_file.readlines()"
   ]
  },
  {
   "cell_type": "code",
   "execution_count": 31,
   "id": "supposed-chase",
   "metadata": {},
   "outputs": [
    {
     "data": {
      "text/plain": [
       "(5462418,\n",
       " '{\"image\": 1, \"queries\": [\"samsing a52\", \"samsung a32\", \"смартфон samsung galaxy a32 128gb awesome violet\", \"samsung a 52\", \"samsung galaxy a32 лаванда\"]}\\n')"
      ]
     },
     "execution_count": 31,
     "metadata": {},
     "output_type": "execute_result"
    }
   ],
   "source": [
    "len(json_strings), json_strings[0]"
   ]
  },
  {
   "cell_type": "code",
   "execution_count": 16,
   "id": "general-insurance",
   "metadata": {},
   "outputs": [],
   "source": [
    "from bpemb import BPEmb"
   ]
  },
  {
   "cell_type": "code",
   "execution_count": 17,
   "id": "planned-problem",
   "metadata": {},
   "outputs": [],
   "source": [
    "embedding_size: int = 200\n",
    "vocab_size: int = 200000\n",
    "\n",
    "bpemb_ru = BPEmb(lang=\"ru\", dim=embedding_size, vs=vocab_size)"
   ]
  },
  {
   "cell_type": "code",
   "execution_count": 22,
   "id": "isolated-jerusalem",
   "metadata": {},
   "outputs": [
    {
     "data": {
      "text/plain": [
       "93"
      ]
     },
     "execution_count": 22,
     "metadata": {},
     "output_type": "execute_result"
    }
   ],
   "source": [
    "images = os.listdir(images_directory)\n",
    "len(images)"
   ]
  },
  {
   "cell_type": "code",
   "execution_count": 110,
   "id": "ready-setting",
   "metadata": {},
   "outputs": [],
   "source": [
    "dataset = I2TDataset(\n",
    "    metadata_file,\n",
    "    images_directory,\n",
    "    tokenizer = bpemb_ru,\n",
    "    read_jsonlines = False,\n",
    "    start = 0,\n",
    "    end = 50,\n",
    "    randomize = False,\n",
    "    tqdm_load = True\n",
    ")"
   ]
  },
  {
   "cell_type": "code",
   "execution_count": 111,
   "id": "stuffed-northern",
   "metadata": {},
   "outputs": [
    {
     "data": {
      "text/plain": [
       "50"
      ]
     },
     "execution_count": 111,
     "metadata": {},
     "output_type": "execute_result"
    }
   ],
   "source": [
    "len(dataset)"
   ]
  },
  {
   "cell_type": "code",
   "execution_count": 112,
   "id": "inclusive-rabbit",
   "metadata": {},
   "outputs": [],
   "source": [
    "dataset_item = dataset[0]"
   ]
  },
  {
   "cell_type": "code",
   "execution_count": 113,
   "id": "twenty-notion",
   "metadata": {},
   "outputs": [
    {
     "data": {
      "text/plain": [
       "(1,\n",
       " ['samsing a52',\n",
       "  'samsung a32',\n",
       "  'смартфон samsung galaxy a32 128gb awesome violet',\n",
       "  'samsung a 52',\n",
       "  'samsung galaxy a32 лаванда'])"
      ]
     },
     "execution_count": 113,
     "metadata": {},
     "output_type": "execute_result"
    }
   ],
   "source": [
    "dataset.data[0]"
   ]
  },
  {
   "cell_type": "code",
   "execution_count": 114,
   "id": "retired-tiffany",
   "metadata": {},
   "outputs": [],
   "source": [
    "# dataset_item"
   ]
  },
  {
   "cell_type": "code",
   "execution_count": 118,
   "id": "contrary-specification",
   "metadata": {},
   "outputs": [
    {
     "data": {
      "text/plain": [
       "['▁sam', 'sing', '▁a', '00']"
      ]
     },
     "execution_count": 118,
     "metadata": {},
     "output_type": "execute_result"
    }
   ],
   "source": [
    "bpemb_ru.encode('samsing a52')"
   ]
  },
  {
   "cell_type": "code",
   "execution_count": 115,
   "id": "eleven-keeping",
   "metadata": {},
   "outputs": [
    {
     "data": {
      "text/plain": [
       "[13235, 33493, 449, 4]"
      ]
     },
     "execution_count": 115,
     "metadata": {},
     "output_type": "execute_result"
    }
   ],
   "source": [
    "bpemb_ru.encode_ids('samsing a52')"
   ]
  },
  {
   "cell_type": "code",
   "execution_count": 116,
   "id": "under-screen",
   "metadata": {},
   "outputs": [
    {
     "data": {
      "text/plain": [
       "[13235, 33493, 449, 4]"
      ]
     },
     "execution_count": 116,
     "metadata": {},
     "output_type": "execute_result"
    }
   ],
   "source": [
    "dataset_item['text']"
   ]
  },
  {
   "cell_type": "code",
   "execution_count": 87,
   "id": "entertaining-genre",
   "metadata": {},
   "outputs": [
    {
     "data": {
      "text/plain": [
       "torch.Size([3, 224, 224])"
      ]
     },
     "execution_count": 87,
     "metadata": {},
     "output_type": "execute_result"
    }
   ],
   "source": [
    "image = dataset_item['image']\n",
    "image.shape"
   ]
  },
  {
   "cell_type": "code",
   "execution_count": 63,
   "id": "religious-timer",
   "metadata": {},
   "outputs": [],
   "source": [
    "import matplotlib.pyplot as plt"
   ]
  },
  {
   "cell_type": "code",
   "execution_count": 71,
   "id": "demonstrated-beatles",
   "metadata": {},
   "outputs": [
    {
     "name": "stderr",
     "output_type": "stream",
     "text": [
      "Clipping input data to the valid range for imshow with RGB data ([0..1] for floats or [0..255] for integers).\n"
     ]
    },
    {
     "data": {
      "text/plain": [
       "<matplotlib.image.AxesImage at 0x1b81f67c0>"
      ]
     },
     "execution_count": 71,
     "metadata": {},
     "output_type": "execute_result"
    },
    {
     "data": {
      "image/png": "[encoded data removed]",
      "text/plain": [
       "<Figure size 432x288 with 1 Axes>"
      ]
     },
     "metadata": {
      "needs_background": "light"
     },
     "output_type": "display_data"
    }
   ],
   "source": [
    "plt.imshow(image.permute(1,2,0))"
   ]
  },
  {
   "cell_type": "markdown",
   "id": "peaceful-blanket",
   "metadata": {},
   "source": [
    "# Dataloader"
   ]
  },
  {
   "cell_type": "code",
   "execution_count": 78,
   "id": "extended-digit",
   "metadata": {},
   "outputs": [],
   "source": [
    "from torch.utils.data._utils.collate import default_collate"
   ]
  },
  {
   "cell_type": "code",
   "execution_count": 117,
   "id": "voluntary-gasoline",
   "metadata": {},
   "outputs": [
    {
     "data": {
      "text/plain": [
       "tensor([0, 3, 7])"
      ]
     },
     "execution_count": 117,
     "metadata": {},
     "output_type": "execute_result"
    }
   ],
   "source": [
    "offsets = [0,3,4,2]\n",
    "torch.tensor(offsets[:-1]).cumsum(dim=0)"
   ]
  },
  {
   "cell_type": "code",
   "execution_count": 79,
   "id": "amber-grenada",
   "metadata": {},
   "outputs": [],
   "source": [
    "def text_collate_fn(items):\n",
    "    ids = []\n",
    "    offsets = [0]\n",
    "    for item in items:\n",
    "        ids.append(torch.tensor(item, dtype=torch.int64))\n",
    "        offsets.append(len(item))\n",
    "    return {\n",
    "        'ids': torch.cat(ids),\n",
    "        'offsets': torch.tensor(offsets[:-1]).cumsum(dim=0)\n",
    "    }"
   ]
  },
  {
   "cell_type": "code",
   "execution_count": 98,
   "id": "super-intention",
   "metadata": {},
   "outputs": [],
   "source": [
    "dataloader = DataLoader(\n",
    "    dataset,\n",
    "    batch_size=4,\n",
    "    collate_fn=dataset.collate_fn,\n",
    "    shuffle=True,\n",
    "    num_workers=0,\n",
    "    drop_last=True\n",
    ")"
   ]
  },
  {
   "cell_type": "code",
   "execution_count": 99,
   "id": "primary-inspiration",
   "metadata": {},
   "outputs": [],
   "source": [
    "dataloader_iter = iter(dataloader)"
   ]
  },
  {
   "cell_type": "code",
   "execution_count": 100,
   "id": "alternate-sport",
   "metadata": {},
   "outputs": [],
   "source": [
    "sample_batch = next(dataloader_iter)"
   ]
  },
  {
   "cell_type": "code",
   "execution_count": 101,
   "id": "based-membrane",
   "metadata": {},
   "outputs": [
    {
     "data": {
      "text/plain": [
       "torch.Size([4, 3, 224, 224])"
      ]
     },
     "execution_count": 101,
     "metadata": {},
     "output_type": "execute_result"
    }
   ],
   "source": [
    "image_batch = sample_batch['image']\n",
    "image_batch.shape"
   ]
  },
  {
   "cell_type": "code",
   "execution_count": 102,
   "id": "optical-scanning",
   "metadata": {},
   "outputs": [],
   "source": [
    "text_batch = sample_batch['text']"
   ]
  },
  {
   "cell_type": "code",
   "execution_count": 103,
   "id": "little-yellow",
   "metadata": {},
   "outputs": [
    {
     "data": {
      "text/plain": [
       "{'ids': tensor([ 43435,  46588,   8908,  24297,  39930,   3628,  56346,  10334,  30295,\n",
       "          32669, 199942,  21922,    528,    706,   8030,  73198,  70382,   5595,\n",
       "            516,    740, 101731,  10614]),\n",
       " 'offsets': tensor([ 0,  3,  9, 18])}"
      ]
     },
     "execution_count": 103,
     "metadata": {},
     "output_type": "execute_result"
    }
   ],
   "source": [
    "text_batch"
   ]
  },
  {
   "cell_type": "markdown",
   "id": "representative-explosion",
   "metadata": {},
   "source": [
    "# TextModel"
   ]
  },
  {
   "cell_type": "code",
   "execution_count": 125,
   "id": "devoted-belgium",
   "metadata": {},
   "outputs": [],
   "source": [
    "embedding_bag = nn.EmbeddingBag.from_pretrained(\n",
    "    torch.tensor(bpemb_ru.vectors),\n",
    "    freeze=True,\n",
    "    sparse=False,\n",
    ")"
   ]
  },
  {
   "cell_type": "code",
   "execution_count": 126,
   "id": "ranking-connectivity",
   "metadata": {},
   "outputs": [],
   "source": [
    "x = embedding_bag(text_batch['ids'], text_batch['offsets'])"
   ]
  },
  {
   "cell_type": "code",
   "execution_count": 127,
   "id": "hollow-cargo",
   "metadata": {},
   "outputs": [
    {
     "data": {
      "text/plain": [
       "torch.Size([4, 200])"
      ]
     },
     "execution_count": 127,
     "metadata": {},
     "output_type": "execute_result"
    }
   ],
   "source": [
    "x.shape"
   ]
  },
  {
   "cell_type": "code",
   "execution_count": 128,
   "id": "universal-elite",
   "metadata": {},
   "outputs": [],
   "source": [
    "embedding = nn.Embedding.from_pretrained(\n",
    "    torch.tensor(bpemb_ru.vectors),\n",
    "    freeze=True,\n",
    "    sparse=False,\n",
    ")"
   ]
  },
  {
   "cell_type": "code",
   "execution_count": 129,
   "id": "precious-sally",
   "metadata": {},
   "outputs": [],
   "source": [
    "x = embedding(text_batch['ids'])"
   ]
  },
  {
   "cell_type": "code",
   "execution_count": 130,
   "id": "veterinary-payday",
   "metadata": {},
   "outputs": [
    {
     "data": {
      "text/plain": [
       "torch.Size([22, 200])"
      ]
     },
     "execution_count": 130,
     "metadata": {},
     "output_type": "execute_result"
    }
   ],
   "source": [
    "x.shape"
   ]
  },
  {
   "cell_type": "code",
   "execution_count": null,
   "id": "operating-missouri",
   "metadata": {},
   "outputs": [],
   "source": []
  }
 ],
 "metadata": {
  "kernelspec": {
   "display_name": "Python 3",
   "language": "python",
   "name": "python3"
  },
  "language_info": {
   "codemirror_mode": {
    "name": "ipython",
    "version": 3
   },
   "file_extension": ".py",
   "mimetype": "text/x-python",
   "name": "python",
   "nbconvert_exporter": "python",
   "pygments_lexer": "ipython3",
   "version": "3.8.2"
  }
 },
 "nbformat": 4,
 "nbformat_minor": 5
}
