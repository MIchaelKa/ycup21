{
 "cells": [
  {
   "cell_type": "code",
   "execution_count": 1,
   "id": "arctic-return",
   "metadata": {
    "colab": {
     "base_uri": "https://localhost:8080/"
    },
    "executionInfo": {
     "elapsed": 911,
     "status": "ok",
     "timestamp": 1633712429167,
     "user": {
      "displayName": "Michael Kalinin",
      "photoUrl": "https://lh3.googleusercontent.com/a/default-user=s64",
      "userId": "11292695338697887397"
     },
     "user_tz": -180
    },
    "id": "arctic-return",
    "outputId": "e3b8991d-9b76-46cd-81a3-c18f7dc033ec"
   },
   "outputs": [
    {
     "name": "stdout",
     "output_type": "stream",
     "text": [
      "download_and_save_images.ipynb ycup21_base.ipynb\r\n",
      "\u001b[34mimages\u001b[m\u001b[m                         ycup21_base_gpu.ipynb\r\n",
      "tokenizer.ipynb                ycup21_base_tpu.ipynb\r\n"
     ]
    }
   ],
   "source": [
    "!ls"
   ]
  },
  {
   "cell_type": "code",
   "execution_count": 2,
   "id": "american-boards",
   "metadata": {
    "colab": {
     "base_uri": "https://localhost:8080/"
    },
    "executionInfo": {
     "elapsed": 273,
     "status": "ok",
     "timestamp": 1633712437551,
     "user": {
      "displayName": "Michael Kalinin",
      "photoUrl": "https://lh3.googleusercontent.com/a/default-user=s64",
      "userId": "11292695338697887397"
     },
     "user_tz": -180
    },
    "id": "american-boards",
    "outputId": "ce38e3be-1c10-4ece-c03b-a73ada6c63b4"
   },
   "outputs": [
    {
     "name": "stdout",
     "output_type": "stream",
     "text": [
      "/Users/michaelka/Developer/ml/projects/ycup21/notebooks\r\n"
     ]
    }
   ],
   "source": [
    "!pwd"
   ]
  },
  {
   "cell_type": "code",
   "execution_count": 3,
   "id": "q4yEQ2au-7gF",
   "metadata": {
    "colab": {
     "base_uri": "https://localhost:8080/"
    },
    "executionInfo": {
     "elapsed": 10,
     "status": "ok",
     "timestamp": 1633712441316,
     "user": {
      "displayName": "Michael Kalinin",
      "photoUrl": "https://lh3.googleusercontent.com/a/default-user=s64",
      "userId": "11292695338697887397"
     },
     "user_tz": -180
    },
    "id": "q4yEQ2au-7gF",
    "outputId": "5483dbf7-0657-4c65-92d3-b52f5bd0556d"
   },
   "outputs": [
    {
     "name": "stdout",
     "output_type": "stream",
     "text": [
      "Filesystem       Size   Used  Avail Capacity iused      ifree %iused  Mounted on\r\n",
      "/dev/disk3s1s1  228Gi   14Gi   24Gi    38%  553757 2393071203    0%   /\r\n",
      "devfs           202Ki  202Ki    0Bi   100%     698          0  100%   /dev\r\n",
      "/dev/disk3s6    228Gi  9.0Gi   24Gi    28%       9 2393624951    0%   /System/Volumes/VM\r\n",
      "/dev/disk3s2    228Gi  219Mi   24Gi     1%     678 2393624282    0%   /System/Volumes/Preboot\r\n",
      "/dev/disk3s4    228Gi  6.1Mi   24Gi     1%      45 2393624915    0%   /System/Volumes/Update\r\n",
      "/dev/disk1s2    500Mi  6.0Mi  481Mi     2%       3    5119997    0%   /System/Volumes/xarts\r\n",
      "/dev/disk1s1    500Mi  7.5Mi  481Mi     2%      34    5119966    0%   /System/Volumes/iSCPreboot\r\n",
      "/dev/disk1s3    500Mi  336Ki  481Mi     1%      34    5119966    0%   /System/Volumes/Hardware\r\n",
      "/dev/disk3s5    228Gi  180Gi   24Gi    89%  978159 2392646801    0%   /System/Volumes/Data\r\n",
      "map auto_home     0Bi    0Bi    0Bi   100%       0          0  100%   /System/Volumes/Data/home\r\n",
      "/dev/disk3s3    228Gi  960Mi   24Gi     4%      49 2393624911    0%   /Volumes/Recovery\r\n",
      "/dev/disk2s1    5.0Gi  1.8Gi  3.1Gi    38%      91   52428269    0%   /System/Volumes/Update/SFR/mnt1\r\n",
      "/dev/disk3s1    228Gi   14Gi   24Gi    38%  553759 2393071201    0%   /System/Volumes/Update/mnt1\r\n"
     ]
    }
   ],
   "source": [
    "!df -h"
   ]
  },
  {
   "cell_type": "code",
   "execution_count": 4,
   "id": "aJWyl1bd-lKZ",
   "metadata": {
    "colab": {
     "base_uri": "https://localhost:8080/"
    },
    "executionInfo": {
     "elapsed": 24979,
     "status": "ok",
     "timestamp": 1633712474581,
     "user": {
      "displayName": "Michael Kalinin",
      "photoUrl": "https://lh3.googleusercontent.com/a/default-user=s64",
      "userId": "11292695338697887397"
     },
     "user_tz": -180
    },
    "id": "aJWyl1bd-lKZ",
    "outputId": "3345c4dd-991a-446c-f73d-df5208a8ed92"
   },
   "outputs": [
    {
     "name": "stdout",
     "output_type": "stream",
     "text": [
      "Mounted at /content/drive/\n"
     ]
    }
   ],
   "source": [
    "from google.colab import drive\n",
    "drive.mount('/content/drive/')"
   ]
  },
  {
   "cell_type": "code",
   "execution_count": 5,
   "id": "M6uaAT7p_Heh",
   "metadata": {
    "colab": {
     "base_uri": "https://localhost:8080/"
    },
    "executionInfo": {
     "elapsed": 27292,
     "status": "ok",
     "timestamp": 1633712501862,
     "user": {
      "displayName": "Michael Kalinin",
      "photoUrl": "https://lh3.googleusercontent.com/a/default-user=s64",
      "userId": "11292695338697887397"
     },
     "user_tz": -180
    },
    "id": "M6uaAT7p_Heh",
    "outputId": "28046d7b-2cc4-4b57-a7fa-ecce3edb9eaf"
   },
   "outputs": [
    {
     "name": "stdout",
     "output_type": "stream",
     "text": [
      "--2021-10-08 17:01:14--  https://cvlab.s3.yandex.net/mlcup2021/images.json\n",
      "Resolving cvlab.s3.yandex.net (cvlab.s3.yandex.net)... 93.158.134.158, 2a02:6b8::2:158\n",
      "Connecting to cvlab.s3.yandex.net (cvlab.s3.yandex.net)|93.158.134.158|:443... connected.\n",
      "HTTP request sent, awaiting response... 200 OK\n",
      "Length: 605923636 (578M) [application/json]\n",
      "Saving to: ‘images.json’\n",
      "\n",
      "images.json         100%[===================>] 577.85M  22.9MB/s    in 26s     \n",
      "\n",
      "2021-10-08 17:01:41 (22.0 MB/s) - ‘images.json’ saved [605923636/605923636]\n",
      "\n"
     ]
    }
   ],
   "source": [
    "!wget https://cvlab.s3.yandex.net/mlcup2021/images.json"
   ]
  },
  {
   "cell_type": "code",
   "execution_count": 1,
   "id": "ez1gwjdy_taJ",
   "metadata": {
    "executionInfo": {
     "elapsed": 277,
     "status": "ok",
     "timestamp": 1633712509772,
     "user": {
      "displayName": "Michael Kalinin",
      "photoUrl": "https://lh3.googleusercontent.com/a/default-user=s64",
      "userId": "11292695338697887397"
     },
     "user_tz": -180
    },
    "id": "ez1gwjdy_taJ"
   },
   "outputs": [],
   "source": [
    "BASE_PATH = '/content/drive/MyDrive/ai/ycup21/'"
   ]
  },
  {
   "cell_type": "code",
   "execution_count": 2,
   "id": "P0M5xplfAHaA",
   "metadata": {
    "colab": {
     "base_uri": "https://localhost:8080/"
    },
    "executionInfo": {
     "elapsed": 687,
     "status": "ok",
     "timestamp": 1633712513757,
     "user": {
      "displayName": "Michael Kalinin",
      "photoUrl": "https://lh3.googleusercontent.com/a/default-user=s64",
      "userId": "11292695338697887397"
     },
     "user_tz": -180
    },
    "id": "P0M5xplfAHaA",
    "outputId": "c16a6600-56ef-47cb-857f-1ae29e0c8de0"
   },
   "outputs": [
    {
     "name": "stdout",
     "output_type": "stream",
     "text": [
      "ls: /content/drive/MyDrive/ai/ycup21/: No such file or directory\r\n"
     ]
    }
   ],
   "source": [
    "!ls {BASE_PATH}"
   ]
  },
  {
   "cell_type": "code",
   "execution_count": 3,
   "id": "ex-m_-5VAYfS",
   "metadata": {
    "executionInfo": {
     "elapsed": 525,
     "status": "ok",
     "timestamp": 1633712519655,
     "user": {
      "displayName": "Michael Kalinin",
      "photoUrl": "https://lh3.googleusercontent.com/a/default-user=s64",
      "userId": "11292695338697887397"
     },
     "user_tz": -180
    },
    "id": "ex-m_-5VAYfS"
   },
   "outputs": [],
   "source": [
    "BASE_PATH_DATA = f'/content/drive/MyDrive/ai/ycup21/data'"
   ]
  },
  {
   "cell_type": "code",
   "execution_count": 4,
   "id": "zlQFz2AZ_hSI",
   "metadata": {
    "id": "zlQFz2AZ_hSI"
   },
   "outputs": [],
   "source": [
    "# !wget https://cvlab.s3.yandex.net/mlcup2021/metadata.json"
   ]
  },
  {
   "cell_type": "code",
   "execution_count": 5,
   "id": "Ol8JdeQ0ATJh",
   "metadata": {
    "id": "Ol8JdeQ0ATJh"
   },
   "outputs": [],
   "source": [
    "# !cp ./metadata.json {BASE_PATH_DATA}"
   ]
  },
  {
   "cell_type": "code",
   "execution_count": 6,
   "id": "center-calculation",
   "metadata": {
    "executionInfo": {
     "elapsed": 284,
     "status": "ok",
     "timestamp": 1633712524402,
     "user": {
      "displayName": "Michael Kalinin",
      "photoUrl": "https://lh3.googleusercontent.com/a/default-user=s64",
      "userId": "11292695338697887397"
     },
     "user_tz": -180
    },
    "id": "center-calculation"
   },
   "outputs": [],
   "source": [
    "import json\n",
    "import os\n",
    "\n",
    "import requests\n",
    "from io import BytesIO\n",
    "from PIL import Image"
   ]
  },
  {
   "cell_type": "code",
   "execution_count": 7,
   "id": "greek-battlefield",
   "metadata": {
    "executionInfo": {
     "elapsed": 4,
     "status": "ok",
     "timestamp": 1633712524402,
     "user": {
      "displayName": "Michael Kalinin",
      "photoUrl": "https://lh3.googleusercontent.com/a/default-user=s64",
      "userId": "11292695338697887397"
     },
     "user_tz": -180
    },
    "id": "greek-battlefield"
   },
   "outputs": [],
   "source": [
    "import time\n",
    "import datetime\n",
    "\n",
    "def format_time(elapsed):\n",
    "    '''\n",
    "    Takes a time in seconds and returns a string hh:mm:ss\n",
    "    '''\n",
    "    # Round to the nearest second.\n",
    "    elapsed_rounded = int(round((elapsed)))\n",
    "    \n",
    "    # Format as hh:mm:ss\n",
    "    return str(datetime.timedelta(seconds=elapsed_rounded))"
   ]
  },
  {
   "cell_type": "code",
   "execution_count": 8,
   "id": "ceramic-authorization",
   "metadata": {
    "executionInfo": {
     "elapsed": 266,
     "status": "ok",
     "timestamp": 1633712526616,
     "user": {
      "displayName": "Michael Kalinin",
      "photoUrl": "https://lh3.googleusercontent.com/a/default-user=s64",
      "userId": "11292695338697887397"
     },
     "user_tz": -180
    },
    "id": "ceramic-authorization"
   },
   "outputs": [],
   "source": [
    "import warnings\n",
    "\n",
    "warnings.filterwarnings(\"ignore\")"
   ]
  },
  {
   "cell_type": "code",
   "execution_count": 9,
   "id": "distinct-restoration",
   "metadata": {
    "executionInfo": {
     "elapsed": 264,
     "status": "ok",
     "timestamp": 1633712529543,
     "user": {
      "displayName": "Michael Kalinin",
      "photoUrl": "https://lh3.googleusercontent.com/a/default-user=s64",
      "userId": "11292695338697887397"
     },
     "user_tz": -180
    },
    "id": "distinct-restoration"
   },
   "outputs": [],
   "source": [
    "data_path = '../data'\n",
    "# data_path = './'\n",
    "\n",
    "image_save_path = './images'\n",
    "image_size = 512"
   ]
  },
  {
   "cell_type": "code",
   "execution_count": 10,
   "id": "PUb6atULBLzO",
   "metadata": {
    "executionInfo": {
     "elapsed": 358,
     "status": "ok",
     "timestamp": 1633712531123,
     "user": {
      "displayName": "Michael Kalinin",
      "photoUrl": "https://lh3.googleusercontent.com/a/default-user=s64",
      "userId": "11292695338697887397"
     },
     "user_tz": -180
    },
    "id": "PUb6atULBLzO"
   },
   "outputs": [
    {
     "name": "stdout",
     "output_type": "stream",
     "text": [
      "mkdir: images: File exists\r\n"
     ]
    }
   ],
   "source": [
    "!mkdir images"
   ]
  },
  {
   "cell_type": "code",
   "execution_count": 11,
   "id": "cultural-velvet",
   "metadata": {
    "executionInfo": {
     "elapsed": 1484,
     "status": "ok",
     "timestamp": 1633712532606,
     "user": {
      "displayName": "Michael Kalinin",
      "photoUrl": "https://lh3.googleusercontent.com/a/default-user=s64",
      "userId": "11292695338697887397"
     },
     "user_tz": -180
    },
    "id": "cultural-velvet"
   },
   "outputs": [],
   "source": [
    "with open(os.path.join(data_path, 'images.json')) as json_file:\n",
    "    json_strings = json_file.readlines()"
   ]
  },
  {
   "cell_type": "code",
   "execution_count": 12,
   "id": "backed-eligibility",
   "metadata": {
    "colab": {
     "base_uri": "https://localhost:8080/"
    },
    "executionInfo": {
     "elapsed": 3,
     "status": "ok",
     "timestamp": 1633712533082,
     "user": {
      "displayName": "Michael Kalinin",
      "photoUrl": "https://lh3.googleusercontent.com/a/default-user=s64",
      "userId": "11292695338697887397"
     },
     "user_tz": -180
    },
    "id": "backed-eligibility",
    "outputId": "2b83d7de-26ce-4389-fd0c-f42f1724b694"
   },
   "outputs": [
    {
     "data": {
      "text/plain": [
       "5462418"
      ]
     },
     "execution_count": 12,
     "metadata": {},
     "output_type": "execute_result"
    }
   ],
   "source": [
    "len(json_strings)"
   ]
  },
  {
   "cell_type": "code",
   "execution_count": 13,
   "id": "express-throw",
   "metadata": {
    "colab": {
     "base_uri": "https://localhost:8080/"
    },
    "executionInfo": {
     "elapsed": 7,
     "status": "ok",
     "timestamp": 1633712536097,
     "user": {
      "displayName": "Michael Kalinin",
      "photoUrl": "https://lh3.googleusercontent.com/a/default-user=s64",
      "userId": "11292695338697887397"
     },
     "user_tz": -180
    },
    "id": "express-throw",
    "outputId": "10c89117-2df9-430e-d092-3704967d10a3"
   },
   "outputs": [
    {
     "name": "stdout",
     "output_type": "stream",
     "text": [
      "1 http://static.pleer.ru/i/gp/826/344/norm.jpg\n",
      "2 https://i0.wp.com/allwomens.ru/uploads/posts/2018-01/1515670311_mariya-gorban-10.jpg\n",
      "3 https://99px.ru/sstorage/56/2015/10/image_561810151141106183724.png\n",
      "4 https://grandmirage.ru/5158-large_default/stol-pismennyj-fierta-43-021.jpg\n",
      "5 https://wallpaper-mania.com/wp-content/uploads/2018/09/High_resolution_wallpaper_background_ID_77700295631.jpg\n",
      "6 https://drasler.ru/wp-content/uploads/2019/08/%D0%94%D0%BE%D0%B1%D1%80%D0%BE%D0%B5-%D1%83%D1%82%D1%80%D0%BE-%D0%BA%D0%B0%D1%80%D1%82%D0%B8%D0%BD%D0%BA%D0%B8-%D0%B4%D0%BB%D1%8F-%D0%BC%D1%83%D0%B6%D1%87%D0%B8%D0%BD%D1%8B-%D1%81-%D0%BD%D0%B0%D0%B4%D0%BF%D0%B8%D1%81%D1%8F%D0%BC%D0%B8-%D0%BA%D0%BE%D1%84%D0%B5-30.jpg\n",
      "7 https://static.wikia.nocookie.net/fantasticbeings/images/d/d2/%D0%AE%D1%81%D1%82%D1%80%D0%B8%D1%86%D0%B0.jpg/revision/latest?cb=20200408081506&path-prefix=ru\n",
      "8 https://img-fotki.yandex.ru/get/6512/20839000.3e/0_85e9c_8d598366_orig\n",
      "9 https://avatars.mds.yandex.net/get-zen_doc/2816669/pub_5ece722966f4a548b0e54bad_5ece7385a038ba0adaa501ff/scale_1200\n",
      "10 https://fs01.infourok.ru/images/doc/87/104046/img9.jpg\n"
     ]
    }
   ],
   "source": [
    "for json_string in json_strings[:10]:\n",
    "    image_data = json.loads(json_string)\n",
    "    print(image_data['image'], image_data['url'])"
   ]
  },
  {
   "cell_type": "code",
   "execution_count": 14,
   "id": "handy-generic",
   "metadata": {
    "colab": {
     "base_uri": "https://localhost:8080/"
    },
    "executionInfo": {
     "elapsed": 11,
     "status": "ok",
     "timestamp": 1633712537011,
     "user": {
      "displayName": "Michael Kalinin",
      "photoUrl": "https://lh3.googleusercontent.com/a/default-user=s64",
      "userId": "11292695338697887397"
     },
     "user_tz": -180
    },
    "id": "handy-generic",
    "outputId": "0947a209-7b20-49eb-fdda-23b92deffd6b"
   },
   "outputs": [
    {
     "data": {
      "text/plain": [
       "['{\"image\": 1, \"url\": \"http://static.pleer.ru/i/gp/826/344/norm.jpg\"}\\n',\n",
       " '{\"image\": 2, \"url\": \"https://i0.wp.com/allwomens.ru/uploads/posts/2018-01/1515670311_mariya-gorban-10.jpg\"}\\n',\n",
       " '{\"image\": 3, \"url\": \"https://99px.ru/sstorage/56/2015/10/image_561810151141106183724.png\"}\\n',\n",
       " '{\"image\": 4, \"url\": \"https://grandmirage.ru/5158-large_default/stol-pismennyj-fierta-43-021.jpg\"}\\n',\n",
       " '{\"image\": 5, \"url\": \"https://wallpaper-mania.com/wp-content/uploads/2018/09/High_resolution_wallpaper_background_ID_77700295631.jpg\"}\\n',\n",
       " '{\"image\": 6, \"url\": \"https://drasler.ru/wp-content/uploads/2019/08/%D0%94%D0%BE%D0%B1%D1%80%D0%BE%D0%B5-%D1%83%D1%82%D1%80%D0%BE-%D0%BA%D0%B0%D1%80%D1%82%D0%B8%D0%BD%D0%BA%D0%B8-%D0%B4%D0%BB%D1%8F-%D0%BC%D1%83%D0%B6%D1%87%D0%B8%D0%BD%D1%8B-%D1%81-%D0%BD%D0%B0%D0%B4%D0%BF%D0%B8%D1%81%D1%8F%D0%BC%D0%B8-%D0%BA%D0%BE%D1%84%D0%B5-30.jpg\"}\\n',\n",
       " '{\"image\": 7, \"url\": \"https://static.wikia.nocookie.net/fantasticbeings/images/d/d2/%D0%AE%D1%81%D1%82%D1%80%D0%B8%D1%86%D0%B0.jpg/revision/latest?cb=20200408081506&path-prefix=ru\"}\\n',\n",
       " '{\"image\": 8, \"url\": \"https://img-fotki.yandex.ru/get/6512/20839000.3e/0_85e9c_8d598366_orig\"}\\n',\n",
       " '{\"image\": 9, \"url\": \"https://avatars.mds.yandex.net/get-zen_doc/2816669/pub_5ece722966f4a548b0e54bad_5ece7385a038ba0adaa501ff/scale_1200\"}\\n',\n",
       " '{\"image\": 10, \"url\": \"https://fs01.infourok.ru/images/doc/87/104046/img9.jpg\"}\\n']"
      ]
     },
     "execution_count": 14,
     "metadata": {},
     "output_type": "execute_result"
    }
   ],
   "source": [
    "json_strings[:10]"
   ]
  },
  {
   "cell_type": "code",
   "execution_count": 15,
   "id": "dutch-surgery",
   "metadata": {},
   "outputs": [],
   "source": [
    "import jsonlines\n",
    "from tqdm.auto import tqdm"
   ]
  },
  {
   "cell_type": "code",
   "execution_count": 16,
   "id": "greatest-offer",
   "metadata": {},
   "outputs": [
    {
     "data": {
      "application/vnd.jupyter.widget-view+json": {
       "model_id": "0e8d4fe150cc436c8e6b0b55d30f8496",
       "version_major": 2,
       "version_minor": 0
      },
      "text/plain": [
       "0it [00:00, ?it/s]"
      ]
     },
     "metadata": {},
     "output_type": "display_data"
    }
   ],
   "source": [
    "image_data = []\n",
    "tqdm_load = True\n",
    "\n",
    "with jsonlines.open(os.path.join(data_path, 'images.json')) as reader:\n",
    "    if tqdm_load:\n",
    "        reader = tqdm(reader)\n",
    "    for obj in reader:\n",
    "        image_data.append((obj['image'], obj['url']))"
   ]
  },
  {
   "cell_type": "code",
   "execution_count": 17,
   "id": "overhead-homeless",
   "metadata": {},
   "outputs": [
    {
     "data": {
      "text/plain": [
       "[(1, 'http://static.pleer.ru/i/gp/826/344/norm.jpg'),\n",
       " (2,\n",
       "  'https://i0.wp.com/allwomens.ru/uploads/posts/2018-01/1515670311_mariya-gorban-10.jpg'),\n",
       " (3, 'https://99px.ru/sstorage/56/2015/10/image_561810151141106183724.png'),\n",
       " (4,\n",
       "  'https://grandmirage.ru/5158-large_default/stol-pismennyj-fierta-43-021.jpg'),\n",
       " (5,\n",
       "  'https://wallpaper-mania.com/wp-content/uploads/2018/09/High_resolution_wallpaper_background_ID_77700295631.jpg'),\n",
       " (6,\n",
       "  'https://drasler.ru/wp-content/uploads/2019/08/%D0%94%D0%BE%D0%B1%D1%80%D0%BE%D0%B5-%D1%83%D1%82%D1%80%D0%BE-%D0%BA%D0%B0%D1%80%D1%82%D0%B8%D0%BD%D0%BA%D0%B8-%D0%B4%D0%BB%D1%8F-%D0%BC%D1%83%D0%B6%D1%87%D0%B8%D0%BD%D1%8B-%D1%81-%D0%BD%D0%B0%D0%B4%D0%BF%D0%B8%D1%81%D1%8F%D0%BC%D0%B8-%D0%BA%D0%BE%D1%84%D0%B5-30.jpg'),\n",
       " (7,\n",
       "  'https://static.wikia.nocookie.net/fantasticbeings/images/d/d2/%D0%AE%D1%81%D1%82%D1%80%D0%B8%D1%86%D0%B0.jpg/revision/latest?cb=20200408081506&path-prefix=ru'),\n",
       " (8, 'https://img-fotki.yandex.ru/get/6512/20839000.3e/0_85e9c_8d598366_orig'),\n",
       " (9,\n",
       "  'https://avatars.mds.yandex.net/get-zen_doc/2816669/pub_5ece722966f4a548b0e54bad_5ece7385a038ba0adaa501ff/scale_1200'),\n",
       " (10, 'https://fs01.infourok.ru/images/doc/87/104046/img9.jpg')]"
      ]
     },
     "execution_count": 17,
     "metadata": {},
     "output_type": "execute_result"
    }
   ],
   "source": [
    "image_data[:10]"
   ]
  },
  {
   "cell_type": "markdown",
   "id": "checked-attention",
   "metadata": {},
   "source": [
    "# 1"
   ]
  },
  {
   "cell_type": "code",
   "execution_count": 16,
   "id": "dense-particle",
   "metadata": {},
   "outputs": [
    {
     "name": "stdout",
     "output_type": "stream",
     "text": [
      "Requirement already satisfied: aiohttp in /Users/michaelka/Developer/ml/projects/p3env/lib/python3.8/site-packages (3.7.4.post0)\n",
      "Requirement already satisfied: yarl<2.0,>=1.0 in /Users/michaelka/Developer/ml/projects/p3env/lib/python3.8/site-packages (from aiohttp) (1.6.3)\n",
      "Requirement already satisfied: attrs>=17.3.0 in /Users/michaelka/Developer/ml/projects/p3env/lib/python3.8/site-packages (from aiohttp) (20.3.0)\n",
      "Requirement already satisfied: chardet<5.0,>=2.0 in /Users/michaelka/Developer/ml/projects/p3env/lib/python3.8/site-packages (from aiohttp) (4.0.0)\n",
      "Requirement already satisfied: async-timeout<4.0,>=3.0 in /Users/michaelka/Developer/ml/projects/p3env/lib/python3.8/site-packages (from aiohttp) (3.0.1)\n",
      "Requirement already satisfied: multidict<7.0,>=4.5 in /Users/michaelka/Developer/ml/projects/p3env/lib/python3.8/site-packages (from aiohttp) (5.1.0)\n",
      "Requirement already satisfied: typing-extensions>=3.6.5 in /Users/michaelka/Developer/ml/projects/p3env/lib/python3.8/site-packages (from aiohttp) (3.7.4.3)\n",
      "Requirement already satisfied: idna>=2.0 in /Users/michaelka/Developer/ml/projects/p3env/lib/python3.8/site-packages (from yarl<2.0,>=1.0->aiohttp) (2.10)\n",
      "\u001b[33mWARNING: You are using pip version 21.0.1; however, version 21.2.4 is available.\n",
      "You should consider upgrading via the '/Users/michaelka/Developer/ml/projects/p3env/bin/python -m pip install --upgrade pip' command.\u001b[0m\n",
      "Collecting aiofiles\n",
      "  Downloading aiofiles-0.7.0-py3-none-any.whl (13 kB)\n",
      "Installing collected packages: aiofiles\n",
      "Successfully installed aiofiles-0.7.0\n",
      "\u001b[33mWARNING: You are using pip version 21.0.1; however, version 21.2.4 is available.\n",
      "You should consider upgrading via the '/Users/michaelka/Developer/ml/projects/p3env/bin/python -m pip install --upgrade pip' command.\u001b[0m\n"
     ]
    }
   ],
   "source": [
    "!pip install aiohttp\n",
    "!pip install aiofiles"
   ]
  },
  {
   "cell_type": "code",
   "execution_count": 18,
   "id": "adopted-technique",
   "metadata": {},
   "outputs": [],
   "source": [
    "import aiohttp\n",
    "import aiofiles\n",
    "import asyncio"
   ]
  },
  {
   "cell_type": "code",
   "execution_count": 19,
   "id": "pleasant-essex",
   "metadata": {},
   "outputs": [
    {
     "data": {
      "text/plain": [
       "'http://static.pleer.ru/i/gp/826/344/norm.jpg'"
      ]
     },
     "execution_count": 19,
     "metadata": {},
     "output_type": "execute_result"
    }
   ],
   "source": [
    "image_json = json.loads(json_strings[0])\n",
    "image_json['url']"
   ]
  },
  {
   "cell_type": "code",
   "execution_count": 21,
   "id": "dimensional-brunei",
   "metadata": {},
   "outputs": [],
   "source": [
    "single_image = image_json['url']\n",
    "\n",
    "async with aiohttp.ClientSession() as session:\n",
    "    async with session.get(single_image) as resp:\n",
    "        \n",
    "        single_image_name = single_image.split('/')[-1]\n",
    "\n",
    "        if resp.status == 200:\n",
    "            async with aiofiles.open(single_image_name, mode='wb') as f:\n",
    "                await f.write(await resp.read())\n",
    "                await f.close()"
   ]
  },
  {
   "cell_type": "code",
   "execution_count": 20,
   "id": "noticed-insert",
   "metadata": {},
   "outputs": [],
   "source": [
    "image_formats = (\"image/png\", \"image/jpeg\", \"image/jpg\")\n",
    "\n",
    "def is_url_image(r):\n",
    "    if \"content-type\" in r.headers and r.headers[\"content-type\"] in image_formats:\n",
    "        return True\n",
    "    return False"
   ]
  },
  {
   "cell_type": "code",
   "execution_count": 21,
   "id": "intensive-master",
   "metadata": {},
   "outputs": [],
   "source": [
    "async def process_image(image_bytes):\n",
    "    image = Image.open(BytesIO(image_bytes))\n",
    "    image = image.convert('RGB')\n",
    "    # image = image.resize((image_size, image_size))\n",
    "    image.thumbnail((image_size, image_size))\n",
    "    return image"
   ]
  },
  {
   "cell_type": "code",
   "execution_count": 22,
   "id": "another-patio",
   "metadata": {},
   "outputs": [],
   "source": [
    "async def fetch(session, image_url, image_name):\n",
    "    try:     \n",
    "        async with session.get(image_url) as resp:\n",
    "\n",
    "            image_path = os.path.join(image_save_path, image_name)\n",
    "\n",
    "    #         print(image_url, image_name)\n",
    "    #         print(resp.headers)\n",
    "\n",
    "            if resp.status != 200:\n",
    "                print('Image couldn\\'t be retreived: ', resp.status)\n",
    "                return\n",
    "\n",
    "            if not is_url_image(resp):\n",
    "                print('Not an image: ', image_name)\n",
    "                return\n",
    "\n",
    "            image_bytes = await resp.read()\n",
    "            image = await process_image(image_bytes)\n",
    "\n",
    "            img_byte_arr = BytesIO()\n",
    "            image.save(img_byte_arr, format='jpeg')\n",
    "            img_byte_arr = img_byte_arr.getvalue()\n",
    "\n",
    "            async with aiofiles.open(image_path, mode='wb') as f:\n",
    "                await f.write(img_byte_arr)\n",
    "                await f.close()\n",
    "    except Exception as e:\n",
    "          print('Exception', str(e))    "
   ]
  },
  {
   "cell_type": "code",
   "execution_count": 37,
   "id": "invalid-death",
   "metadata": {},
   "outputs": [],
   "source": [
    "timeout = aiohttp.ClientTimeout(total=1)\n",
    "connector = aiohttp.TCPConnector(verify_ssl=False)"
   ]
  },
  {
   "cell_type": "code",
   "execution_count": 38,
   "id": "editorial-appearance",
   "metadata": {},
   "outputs": [],
   "source": [
    "async def main(image_data):\n",
    "    tasks = []\n",
    "    async with aiohttp.ClientSession(connector=connector) as session:\n",
    "        for image in image_data:\n",
    "                \n",
    "            image_id = image[0]\n",
    "            image_name = f'image_{image_id}.jpg'\n",
    "            image_url = image[1]\n",
    "    \n",
    "            tasks.append(fetch(session, image_url, image_name))\n",
    "    \n",
    "        await asyncio.wait(tasks)\n",
    "        print('loading finished')"
   ]
  },
  {
   "cell_type": "code",
   "execution_count": 39,
   "id": "progressive-capital",
   "metadata": {},
   "outputs": [],
   "source": [
    "loop = asyncio.get_event_loop()"
   ]
  },
  {
   "cell_type": "code",
   "execution_count": 40,
   "id": "experienced-sessions",
   "metadata": {},
   "outputs": [
    {
     "data": {
      "text/plain": [
       "<Task pending name='Task-218' coro=<main() running at <ipython-input-38-c17297715170>:1>>"
      ]
     },
     "execution_count": 40,
     "metadata": {},
     "output_type": "execute_result"
    },
    {
     "name": "stdout",
     "output_type": "stream",
     "text": [
      "Exception \n",
      "Exception \n",
      "Exception \n",
      "Exception \n",
      "Exception \n",
      "Exception \n",
      "Exception \n",
      "Exception \n",
      "Exception \n",
      "Exception \n",
      "Exception \n",
      "Exception \n",
      "Exception \n",
      "Exception \n",
      "Exception \n",
      "Exception \n",
      "Exception \n",
      "Exception \n",
      "Exception \n",
      "Exception \n",
      "Exception \n",
      "Exception \n",
      "Exception \n",
      "loading finished\n"
     ]
    }
   ],
   "source": [
    "loop.create_task(main(image_data[:25]))"
   ]
  },
  {
   "cell_type": "markdown",
   "id": "quarterly-protest",
   "metadata": {},
   "source": [
    "# 2"
   ]
  },
  {
   "cell_type": "code",
   "execution_count": 14,
   "id": "wOnmDs2fLf3Z",
   "metadata": {
    "executionInfo": {
     "elapsed": 264,
     "status": "ok",
     "timestamp": 1633712544688,
     "user": {
      "displayName": "Michael Kalinin",
      "photoUrl": "https://lh3.googleusercontent.com/a/default-user=s64",
      "userId": "11292695338697887397"
     },
     "user_tz": -180
    },
    "id": "wOnmDs2fLf3Z"
   },
   "outputs": [],
   "source": [
    "index_to_remove = []\n",
    "id_to_remove = []"
   ]
  },
  {
   "cell_type": "code",
   "execution_count": 15,
   "id": "NnjSWXnvBCIJ",
   "metadata": {
    "executionInfo": {
     "elapsed": 263,
     "status": "ok",
     "timestamp": 1633712596427,
     "user": {
      "displayName": "Michael Kalinin",
      "photoUrl": "https://lh3.googleusercontent.com/a/default-user=s64",
      "userId": "11292695338697887397"
     },
     "user_tz": -180
    },
    "id": "NnjSWXnvBCIJ"
   },
   "outputs": [],
   "source": [
    "start_from = 26617\n",
    "num_images_to_load = 100000"
   ]
  },
  {
   "cell_type": "code",
   "execution_count": 13,
   "id": "NNMhiAnvFQuG",
   "metadata": {
    "executionInfo": {
     "elapsed": 262,
     "status": "ok",
     "timestamp": 1633712599043,
     "user": {
      "displayName": "Michael Kalinin",
      "photoUrl": "https://lh3.googleusercontent.com/a/default-user=s64",
      "userId": "11292695338697887397"
     },
     "user_tz": -180
    },
    "id": "NNMhiAnvFQuG"
   },
   "outputs": [],
   "source": [
    "image_formats = (\"image/png\", \"image/jpeg\", \"image/jpg\")\n",
    "\n",
    "def is_url_image(r):\n",
    "   if \"content-type\" in r.headers and r.headers[\"content-type\"] in image_formats:\n",
    "      return True\n",
    "   return False"
   ]
  },
  {
   "cell_type": "code",
   "execution_count": 21,
   "id": "LeJ_sww_Tn00",
   "metadata": {
    "executionInfo": {
     "elapsed": 467,
     "status": "ok",
     "timestamp": 1633712609791,
     "user": {
      "displayName": "Michael Kalinin",
      "photoUrl": "https://lh3.googleusercontent.com/a/default-user=s64",
      "userId": "11292695338697887397"
     },
     "user_tz": -180
    },
    "id": "LeJ_sww_Tn00"
   },
   "outputs": [],
   "source": [
    "from tqdm import tqdm"
   ]
  },
  {
   "cell_type": "code",
   "execution_count": 28,
   "id": "recorded-hardware",
   "metadata": {
    "colab": {
     "base_uri": "https://localhost:8080/",
     "height": 1000
    },
    "executionInfo": {
     "elapsed": 41313,
     "status": "error",
     "timestamp": 1633713051201,
     "user": {
      "displayName": "Michael Kalinin",
      "photoUrl": "https://lh3.googleusercontent.com/a/default-user=s64",
      "userId": "11292695338697887397"
     },
     "user_tz": -180
    },
    "id": "recorded-hardware",
    "outputId": "76773d77-1b90-4a26-c373-152e4d7c90aa"
   },
   "outputs": [
    {
     "name": "stdout",
     "output_type": "stream",
     "text": [
      "downloaded images: 1 [0.9032998636964599im/s]\n",
      "downloaded images: 2 [0.26447241514291825im/s]\n",
      "downloaded images: 3 [0.3903028405827095im/s]\n",
      "downloaded images: 4 [0.44381996003317403im/s]\n",
      "downloaded images: 5 [0.49267364923586615im/s]\n",
      "downloaded images: 6 [0.545241671513883im/s]\n",
      "downloaded images: 7 [0.5682274124443467im/s]\n",
      "downloaded images: 8 [0.6036024785771009im/s]\n",
      "downloaded images: 9 [0.6243963270636936im/s]\n",
      "downloaded images: 10 [0.6626992806315556im/s]\n",
      "downloaded images: 11 [0.6953987275671262im/s]\n",
      "downloaded images: 12 [0.7080652120635111im/s]\n",
      "Image couldn't be retreived:  12 image_28979.jpg 406 0:00:00\n",
      "downloaded images: 13 [0.7502259754009153im/s]\n",
      "downloaded images: 14 [0.7826782228318105im/s]\n",
      "downloaded images: 15 [0.8049578534477713im/s]\n",
      "downloaded images: 16 [0.8398997875334209im/s]\n",
      "downloaded images: 17 [0.8300395208144465im/s]\n",
      "downloaded images: 18 [0.8390498006289795im/s]\n",
      "downloaded images: 19 [0.8217623052141146im/s]\n",
      "downloaded images: 20 [0.8533092454716371im/s]\n",
      "downloaded images: 21 [0.8579643318664039im/s]\n",
      "downloaded images: 22 [0.8577013883859859im/s]\n",
      "downloaded images: 23 [0.8510256567464579im/s]\n",
      "downloaded images: 24 [0.8593054452802589im/s]\n",
      "downloaded images: 25 [0.8551738152017777im/s]\n",
      "downloaded images: 26 [0.868332810444999im/s]\n",
      "downloaded images: 27 [0.8628750866447029im/s]\n",
      "downloaded images: 28 [0.8727459663152589im/s]\n",
      "downloaded images: 29 [0.8705138731286607im/s]\n",
      "Not an image:  30 image_28997.jpg 200 0:00:02\n",
      "downloaded images: 30 [0.8223858725419253im/s]\n",
      "downloaded images: 31 [0.8248582982210536im/s]\n",
      "downloaded images: 32 [0.8310496860895363im/s]\n",
      "downloaded images: 33 [0.8489492342005804im/s]\n",
      "downloaded images: 34 [0.8576522225364536im/s]\n",
      "downloaded images: 35 [0.8577591956731262im/s]\n",
      "downloaded images: 36 [0.8787401670483961im/s]\n"
     ]
    },
    {
     "ename": "KeyboardInterrupt",
     "evalue": "ignored",
     "output_type": "error",
     "traceback": [
      "\u001b[0;31m---------------------------------------------------------------------------\u001b[0m",
      "\u001b[0;31mKeyboardInterrupt\u001b[0m                         Traceback (most recent call last)",
      "\u001b[0;32m<ipython-input-28-a877f6a0eb22>\u001b[0m in \u001b[0;36m<module>\u001b[0;34m()\u001b[0m\n\u001b[1;32m     56\u001b[0m     \u001b[0mimage\u001b[0m \u001b[0;34m=\u001b[0m \u001b[0mimage\u001b[0m\u001b[0;34m.\u001b[0m\u001b[0mconvert\u001b[0m\u001b[0;34m(\u001b[0m\u001b[0;34m'RGB'\u001b[0m\u001b[0;34m)\u001b[0m\u001b[0;34m\u001b[0m\u001b[0;34m\u001b[0m\u001b[0m\n\u001b[1;32m     57\u001b[0m     \u001b[0;31m# image = image.resize((image_size, image_size))\u001b[0m\u001b[0;34m\u001b[0m\u001b[0;34m\u001b[0m\u001b[0;34m\u001b[0m\u001b[0m\n\u001b[0;32m---> 58\u001b[0;31m     \u001b[0mimage\u001b[0m\u001b[0;34m.\u001b[0m\u001b[0mthumbnail\u001b[0m\u001b[0;34m(\u001b[0m\u001b[0;34m(\u001b[0m\u001b[0mimage_size\u001b[0m\u001b[0;34m,\u001b[0m \u001b[0mimage_size\u001b[0m\u001b[0;34m)\u001b[0m\u001b[0;34m)\u001b[0m\u001b[0;34m\u001b[0m\u001b[0;34m\u001b[0m\u001b[0m\n\u001b[0m\u001b[1;32m     59\u001b[0m     \u001b[0mimage\u001b[0m\u001b[0;34m.\u001b[0m\u001b[0msave\u001b[0m\u001b[0;34m(\u001b[0m\u001b[0mos\u001b[0m\u001b[0;34m.\u001b[0m\u001b[0mpath\u001b[0m\u001b[0;34m.\u001b[0m\u001b[0mjoin\u001b[0m\u001b[0;34m(\u001b[0m\u001b[0mimage_save_path\u001b[0m\u001b[0;34m,\u001b[0m \u001b[0mimage_name\u001b[0m\u001b[0;34m)\u001b[0m\u001b[0;34m)\u001b[0m\u001b[0;34m\u001b[0m\u001b[0;34m\u001b[0m\u001b[0m\n\u001b[1;32m     60\u001b[0m \u001b[0;34m\u001b[0m\u001b[0m\n",
      "\u001b[0;32m/usr/local/lib/python3.7/dist-packages/PIL/Image.py\u001b[0m in \u001b[0;36mthumbnail\u001b[0;34m(self, size, resample, reducing_gap)\u001b[0m\n\u001b[1;32m   2287\u001b[0m \u001b[0;34m\u001b[0m\u001b[0m\n\u001b[1;32m   2288\u001b[0m         \u001b[0;32mif\u001b[0m \u001b[0mself\u001b[0m\u001b[0;34m.\u001b[0m\u001b[0msize\u001b[0m \u001b[0;34m!=\u001b[0m \u001b[0msize\u001b[0m\u001b[0;34m:\u001b[0m\u001b[0;34m\u001b[0m\u001b[0;34m\u001b[0m\u001b[0m\n\u001b[0;32m-> 2289\u001b[0;31m             \u001b[0mim\u001b[0m \u001b[0;34m=\u001b[0m \u001b[0mself\u001b[0m\u001b[0;34m.\u001b[0m\u001b[0mresize\u001b[0m\u001b[0;34m(\u001b[0m\u001b[0msize\u001b[0m\u001b[0;34m,\u001b[0m \u001b[0mresample\u001b[0m\u001b[0;34m,\u001b[0m \u001b[0mbox\u001b[0m\u001b[0;34m=\u001b[0m\u001b[0mbox\u001b[0m\u001b[0;34m,\u001b[0m \u001b[0mreducing_gap\u001b[0m\u001b[0;34m=\u001b[0m\u001b[0mreducing_gap\u001b[0m\u001b[0;34m)\u001b[0m\u001b[0;34m\u001b[0m\u001b[0;34m\u001b[0m\u001b[0m\n\u001b[0m\u001b[1;32m   2290\u001b[0m \u001b[0;34m\u001b[0m\u001b[0m\n\u001b[1;32m   2291\u001b[0m             \u001b[0mself\u001b[0m\u001b[0;34m.\u001b[0m\u001b[0mim\u001b[0m \u001b[0;34m=\u001b[0m \u001b[0mim\u001b[0m\u001b[0;34m.\u001b[0m\u001b[0mim\u001b[0m\u001b[0;34m\u001b[0m\u001b[0;34m\u001b[0m\u001b[0m\n",
      "\u001b[0;32m/usr/local/lib/python3.7/dist-packages/PIL/Image.py\u001b[0m in \u001b[0;36mresize\u001b[0;34m(self, size, resample, box, reducing_gap)\u001b[0m\n\u001b[1;32m   1903\u001b[0m                 )\n\u001b[1;32m   1904\u001b[0m \u001b[0;34m\u001b[0m\u001b[0m\n\u001b[0;32m-> 1905\u001b[0;31m         \u001b[0;32mreturn\u001b[0m \u001b[0mself\u001b[0m\u001b[0;34m.\u001b[0m\u001b[0m_new\u001b[0m\u001b[0;34m(\u001b[0m\u001b[0mself\u001b[0m\u001b[0;34m.\u001b[0m\u001b[0mim\u001b[0m\u001b[0;34m.\u001b[0m\u001b[0mresize\u001b[0m\u001b[0;34m(\u001b[0m\u001b[0msize\u001b[0m\u001b[0;34m,\u001b[0m \u001b[0mresample\u001b[0m\u001b[0;34m,\u001b[0m \u001b[0mbox\u001b[0m\u001b[0;34m)\u001b[0m\u001b[0;34m)\u001b[0m\u001b[0;34m\u001b[0m\u001b[0;34m\u001b[0m\u001b[0m\n\u001b[0m\u001b[1;32m   1906\u001b[0m \u001b[0;34m\u001b[0m\u001b[0m\n\u001b[1;32m   1907\u001b[0m     \u001b[0;32mdef\u001b[0m \u001b[0mreduce\u001b[0m\u001b[0;34m(\u001b[0m\u001b[0mself\u001b[0m\u001b[0;34m,\u001b[0m \u001b[0mfactor\u001b[0m\u001b[0;34m,\u001b[0m \u001b[0mbox\u001b[0m\u001b[0;34m=\u001b[0m\u001b[0;32mNone\u001b[0m\u001b[0;34m)\u001b[0m\u001b[0;34m:\u001b[0m\u001b[0;34m\u001b[0m\u001b[0;34m\u001b[0m\u001b[0m\n",
      "\u001b[0;31mKeyboardInterrupt\u001b[0m: "
     ]
    }
   ],
   "source": [
    "t0 = time.time()\n",
    "\n",
    "num_of_images = 0\n",
    "\n",
    "index_to_remove = []\n",
    "id_to_remove = []\n",
    "\n",
    "# pbar = tqdm(enumerate(json_strings[start_from:num_images_to_load]))\n",
    "\n",
    "for index, json_string in enumerate(json_strings[start_from:num_images_to_load]):\n",
    "    \n",
    "#     if index in index_to_remove:\n",
    "#         continue\n",
    "    \n",
    "    t1 = time.time()\n",
    "    \n",
    "    image_json = json.loads(json_string)\n",
    "    \n",
    "#     print(index, image_json['image'], image_json['url'])\n",
    "      \n",
    "    image_id = image_json['image']\n",
    "    image_name = f'image_{image_id}.jpg'\n",
    "      \n",
    "    try:\n",
    "        r = requests.get(image_json['url'], verify=False, timeout=1)\n",
    "    except requests.exceptions.RequestException as e:  # This is the correct syntax\n",
    "        # print('Image couldn\\'t be retreived: ', index, image_name, e, format_time(time.time() - t1))\n",
    "        index_to_remove.append(index)\n",
    "        id_to_remove.append(image_id)\n",
    "        continue\n",
    "\n",
    "    if r.status_code != 200:\n",
    "        print('Image couldn\\'t be retreived: ', index, image_name, r.status_code, format_time(time.time() - t1))\n",
    "        index_to_remove.append(index)\n",
    "        id_to_remove.append(image_id)\n",
    "        continue\n",
    "\n",
    "    if not is_url_image(r):\n",
    "        print('Not an image: ', index, image_name, r.status_code, format_time(time.time() - t1))\n",
    "        index_to_remove.append(index)\n",
    "        id_to_remove.append(image_id)\n",
    "        continue\n",
    "       \n",
    "\n",
    "    # print('Image sucessfully downloaded: ', index, image_name, format_time(time.time() - t1))\n",
    "    # with open(os.path.join(image_save_path, image_name), 'wb') as handler:\n",
    "    #     handler.write(r.content)\n",
    "\n",
    "    num_of_images += 1\n",
    "    time_since_b = time.time() - t0\n",
    "    # print(time.time() - t0)\n",
    "    # pbar.set_description\n",
    "    print(f'downloaded images: {num_of_images} [{num_of_images/time_since_b}im/s]')\n",
    "\n",
    "    image = Image.open(BytesIO(r.content))\n",
    "    image = image.convert('RGB')\n",
    "    # image = image.resize((image_size, image_size))\n",
    "    image.thumbnail((image_size, image_size))\n",
    "    image.save(os.path.join(image_save_path, image_name))\n",
    "           \n",
    "print('loading finished for: {}'.format(format_time(time.time() - t0)))"
   ]
  },
  {
   "cell_type": "code",
   "execution_count": null,
   "id": "lined-banner",
   "metadata": {
    "colab": {
     "base_uri": "https://localhost:8080/"
    },
    "executionInfo": {
     "elapsed": 289,
     "status": "ok",
     "timestamp": 1633368476775,
     "user": {
      "displayName": "Michael Kalinin",
      "photoUrl": "https://lh3.googleusercontent.com/a/default-user=s64",
      "userId": "11292695338697887397"
     },
     "user_tz": -180
    },
    "id": "lined-banner",
    "outputId": "f0c1e540-919f-42a1-b258-161880f94bb2"
   },
   "outputs": [
    {
     "data": {
      "text/plain": [
       "([28841, 28850, 28852, 28864, 28908, 28919, 28954, 28959, 28960, 28965],\n",
       " [26499, 26507, 26509, 26519, 26561, 26572, 26605, 26609, 26610, 26615])"
      ]
     },
     "execution_count": 27,
     "metadata": {},
     "output_type": "execute_result"
    }
   ],
   "source": [
    "# index_to_remove, id_to_remove\n",
    "id_to_remove[-10:], index_to_remove[-10:]"
   ]
  },
  {
   "cell_type": "code",
   "execution_count": null,
   "id": "synthetic-jason",
   "metadata": {
    "id": "synthetic-jason"
   },
   "outputs": [],
   "source": [
    "import numpy as np"
   ]
  },
  {
   "cell_type": "code",
   "execution_count": null,
   "id": "median-adult",
   "metadata": {
    "id": "median-adult"
   },
   "outputs": [],
   "source": [
    "np.save('index_to_remove.npy', index_to_remove)\n",
    "np.save('id_to_remove.npy', id_to_remove)"
   ]
  },
  {
   "cell_type": "code",
   "execution_count": null,
   "id": "1i7yv6e8W2FP",
   "metadata": {
    "colab": {
     "base_uri": "https://localhost:8080/"
    },
    "executionInfo": {
     "elapsed": 292,
     "status": "ok",
     "timestamp": 1633368645321,
     "user": {
      "displayName": "Michael Kalinin",
      "photoUrl": "https://lh3.googleusercontent.com/a/default-user=s64",
      "userId": "11292695338697887397"
     },
     "user_tz": -180
    },
    "id": "1i7yv6e8W2FP",
    "outputId": "6c68f431-42cd-48b0-d76f-5df1c96050bb"
   },
   "outputs": [
    {
     "data": {
      "text/plain": [
       "(1990, 1990)"
      ]
     },
     "execution_count": 36,
     "metadata": {},
     "output_type": "execute_result"
    }
   ],
   "source": [
    "len(index_to_remove), len(id_to_remove)"
   ]
  },
  {
   "cell_type": "code",
   "execution_count": null,
   "id": "excessive-actor",
   "metadata": {
    "id": "excessive-actor"
   },
   "outputs": [],
   "source": [
    "# 1_00 - 1MB\n",
    "# 1_000_000 - 10GB"
   ]
  },
  {
   "cell_type": "code",
   "execution_count": null,
   "id": "everyday-multiple",
   "metadata": {
    "id": "everyday-multiple"
   },
   "outputs": [],
   "source": [
    "# 12 13 402 error\n",
    "# 19 21 SSLCertVerificationError https://stackoverflow.com/questions/10667960/python-requests-throwing-sslerror\n",
    "# 40 44 ConnectionResetError\n",
    "#"
   ]
  },
  {
   "cell_type": "code",
   "execution_count": null,
   "id": "lyric-jaguar",
   "metadata": {
    "colab": {
     "base_uri": "https://localhost:8080/"
    },
    "executionInfo": {
     "elapsed": 332,
     "status": "ok",
     "timestamp": 1633368792604,
     "user": {
      "displayName": "Michael Kalinin",
      "photoUrl": "https://lh3.googleusercontent.com/a/default-user=s64",
      "userId": "11292695338697887397"
     },
     "user_tz": -180
    },
    "id": "lyric-jaguar",
    "outputId": "fd55cbfa-27a0-45c8-cd09-4fae8f4583de"
   },
   "outputs": [
    {
     "name": "stdout",
     "output_type": "stream",
     "text": [
      "28966 http://www.cinemapassion.com/stickers4/Oggy_et_les_cafards_Le_film-21091115122013.jpg\n"
     ]
    }
   ],
   "source": [
    "json_string = json_strings[26616]\n",
    "image_json = json.loads(json_string)\n",
    "print(image_json['image'], image_json['url'])"
   ]
  },
  {
   "cell_type": "code",
   "execution_count": null,
   "id": "nonprofit-struggle",
   "metadata": {
    "id": "nonprofit-struggle"
   },
   "outputs": [],
   "source": [
    "try:\n",
    "    r = requests.get(image_json['url'], verify=False, timeout=2)\n",
    "except requests.exceptions.RequestException as e:  # This is the correct syntax\n",
    "    print(e)"
   ]
  },
  {
   "cell_type": "code",
   "execution_count": null,
   "id": "2o3Hx5uYE979",
   "metadata": {
    "colab": {
     "base_uri": "https://localhost:8080/"
    },
    "executionInfo": {
     "elapsed": 66,
     "status": "ok",
     "timestamp": 1633368796616,
     "user": {
      "displayName": "Michael Kalinin",
      "photoUrl": "https://lh3.googleusercontent.com/a/default-user=s64",
      "userId": "11292695338697887397"
     },
     "user_tz": -180
    },
    "id": "2o3Hx5uYE979",
    "outputId": "c876405a-28c9-472c-b316-b98779281218"
   },
   "outputs": [
    {
     "data": {
      "text/plain": [
       "True"
      ]
     },
     "execution_count": 48,
     "metadata": {},
     "output_type": "execute_result"
    }
   ],
   "source": [
    "is_url_image(r)"
   ]
  },
  {
   "cell_type": "code",
   "execution_count": null,
   "id": "tight-injury",
   "metadata": {
    "colab": {
     "base_uri": "https://localhost:8080/"
    },
    "executionInfo": {
     "elapsed": 8,
     "status": "ok",
     "timestamp": 1633368796617,
     "user": {
      "displayName": "Michael Kalinin",
      "photoUrl": "https://lh3.googleusercontent.com/a/default-user=s64",
      "userId": "11292695338697887397"
     },
     "user_tz": -180
    },
    "id": "tight-injury",
    "outputId": "23330ee3-6aff-4a24-910d-2680cfdd2447"
   },
   "outputs": [
    {
     "data": {
      "text/plain": [
       "200"
      ]
     },
     "execution_count": 49,
     "metadata": {},
     "output_type": "execute_result"
    }
   ],
   "source": [
    "r.status_code"
   ]
  },
  {
   "cell_type": "code",
   "execution_count": null,
   "id": "diverse-hunter",
   "metadata": {
    "id": "diverse-hunter"
   },
   "outputs": [],
   "source": [
    "# image = Image.open(requests.get(image_json['url'], verify=False, stream=True).raw)\n",
    "image = Image.open(BytesIO(r.content))\n",
    "image = image.convert('RGB')\n",
    "# image = image.resize((image_size, image_size))\n",
    "image.thumbnail((image_size, image_size))"
   ]
  },
  {
   "cell_type": "code",
   "execution_count": null,
   "id": "exact-analyst",
   "metadata": {
    "colab": {
     "base_uri": "https://localhost:8080/"
    },
    "executionInfo": {
     "elapsed": 12,
     "status": "ok",
     "timestamp": 1633368799781,
     "user": {
      "displayName": "Michael Kalinin",
      "photoUrl": "https://lh3.googleusercontent.com/a/default-user=s64",
      "userId": "11292695338697887397"
     },
     "user_tz": -180
    },
    "id": "exact-analyst",
    "outputId": "33940b5f-96da-4dc2-e0b3-0085492f74a8"
   },
   "outputs": [
    {
     "data": {
      "text/plain": [
       "(509, 512, 3)"
      ]
     },
     "execution_count": 51,
     "metadata": {},
     "output_type": "execute_result"
    }
   ],
   "source": [
    "np.array(image).shape"
   ]
  },
  {
   "cell_type": "code",
   "execution_count": null,
   "id": "seeing-locking",
   "metadata": {
    "id": "seeing-locking"
   },
   "outputs": [],
   "source": [
    "# image"
   ]
  },
  {
   "cell_type": "code",
   "execution_count": null,
   "id": "following-contamination",
   "metadata": {
    "id": "following-contamination"
   },
   "outputs": [],
   "source": [
    "size = 256\n",
    "# resample = None\n",
    "im = image.resize((size, size))"
   ]
  },
  {
   "cell_type": "code",
   "execution_count": null,
   "id": "dedicated-houston",
   "metadata": {
    "id": "dedicated-houston"
   },
   "outputs": [],
   "source": [
    "im.save(os.path.join(image_save_path, image_name))"
   ]
  },
  {
   "cell_type": "markdown",
   "id": "present-incentive",
   "metadata": {
    "id": "present-incentive"
   },
   "source": [
    "# Create archive"
   ]
  },
  {
   "cell_type": "code",
   "execution_count": null,
   "id": "competent-division",
   "metadata": {
    "id": "competent-division"
   },
   "outputs": [],
   "source": [
    "!tar -czf ycup21-images-1.tgz {image_save_path}"
   ]
  },
  {
   "cell_type": "code",
   "execution_count": null,
   "id": "liquid-cartridge",
   "metadata": {
    "colab": {
     "base_uri": "https://localhost:8080/"
    },
    "executionInfo": {
     "elapsed": 293,
     "status": "ok",
     "timestamp": 1633368548002,
     "user": {
      "displayName": "Michael Kalinin",
      "photoUrl": "https://lh3.googleusercontent.com/a/default-user=s64",
      "userId": "11292695338697887397"
     },
     "user_tz": -180
    },
    "id": "liquid-cartridge",
    "outputId": "7762c131-10cb-456c-9ef4-a008897c8a8e"
   },
   "outputs": [
    {
     "name": "stdout",
     "output_type": "stream",
     "text": [
      "-rw-r--r-- 1 root root 705M Oct  4 17:29 ./ycup21-images-1.tgz\n"
     ]
    }
   ],
   "source": [
    "!ls -lh ./ycup21-images-1.tgz"
   ]
  },
  {
   "cell_type": "code",
   "execution_count": null,
   "id": "nX_-yN_fWrov",
   "metadata": {
    "colab": {
     "base_uri": "https://localhost:8080/"
    },
    "executionInfo": {
     "elapsed": 270,
     "status": "ok",
     "timestamp": 1633368590593,
     "user": {
      "displayName": "Michael Kalinin",
      "photoUrl": "https://lh3.googleusercontent.com/a/default-user=s64",
      "userId": "11292695338697887397"
     },
     "user_tz": -180
    },
    "id": "nX_-yN_fWrov",
    "outputId": "88989f53-775f-4017-80fd-0a944383c738"
   },
   "outputs": [
    {
     "name": "stdout",
     "output_type": "stream",
     "text": [
      "drive\t\t  images       index_to_remove.npy  ycup21-images-1.tgz\n",
      "id_to_remove.npy  images.json  sample_data\n"
     ]
    }
   ],
   "source": [
    "!ls"
   ]
  },
  {
   "cell_type": "code",
   "execution_count": null,
   "id": "unauthorized-petersburg",
   "metadata": {
    "id": "unauthorized-petersburg"
   },
   "outputs": [],
   "source": [
    "!cp ./ycup21-images-1.tgz {BASE_PATH_DATA}"
   ]
  },
  {
   "cell_type": "code",
   "execution_count": null,
   "id": "QUyZIImZWoQG",
   "metadata": {
    "id": "QUyZIImZWoQG"
   },
   "outputs": [],
   "source": [
    "!cp ./index_to_remove.npy {BASE_PATH_DATA}"
   ]
  },
  {
   "cell_type": "code",
   "execution_count": null,
   "id": "nsmbWDGXWu_Y",
   "metadata": {
    "id": "nsmbWDGXWu_Y"
   },
   "outputs": [],
   "source": [
    "!cp ./id_to_remove.npy {BASE_PATH_DATA}"
   ]
  },
  {
   "cell_type": "code",
   "execution_count": null,
   "id": "-dKYXM6TWytH",
   "metadata": {
    "colab": {
     "base_uri": "https://localhost:8080/"
    },
    "executionInfo": {
     "elapsed": 385,
     "status": "ok",
     "timestamp": 1633368699522,
     "user": {
      "displayName": "Michael Kalinin",
      "photoUrl": "https://lh3.googleusercontent.com/a/default-user=s64",
      "userId": "11292695338697887397"
     },
     "user_tz": -180
    },
    "id": "-dKYXM6TWytH",
    "outputId": "521aac7a-a7e9-4d9d-831f-7c3e1e8f2914"
   },
   "outputs": [
    {
     "data": {
      "text/plain": [
       "24627"
      ]
     },
     "execution_count": 38,
     "metadata": {},
     "output_type": "execute_result"
    }
   ],
   "source": [
    "images = os.listdir(image_save_path)\n",
    "len(images)"
   ]
  },
  {
   "cell_type": "code",
   "execution_count": null,
   "id": "Sfj8Zq13XFZn",
   "metadata": {
    "colab": {
     "base_uri": "https://localhost:8080/"
    },
    "executionInfo": {
     "elapsed": 270,
     "status": "ok",
     "timestamp": 1633368733942,
     "user": {
      "displayName": "Michael Kalinin",
      "photoUrl": "https://lh3.googleusercontent.com/a/default-user=s64",
      "userId": "11292695338697887397"
     },
     "user_tz": -180
    },
    "id": "Sfj8Zq13XFZn",
    "outputId": "8c421c22-e044-421a-a70c-1c706723b6f2"
   },
   "outputs": [
    {
     "data": {
      "text/plain": [
       "26617"
      ]
     },
     "execution_count": 39,
     "metadata": {},
     "output_type": "execute_result"
    }
   ],
   "source": [
    "len(images) + len(index_to_remove)"
   ]
  },
  {
   "cell_type": "code",
   "execution_count": null,
   "id": "dAA2F72OXPYi",
   "metadata": {
    "id": "dAA2F72OXPYi"
   },
   "outputs": [],
   "source": []
  }
 ],
 "metadata": {
  "colab": {
   "collapsed_sections": [],
   "name": "download_and_save_images.ipynb",
   "provenance": []
  },
  "kernelspec": {
   "display_name": "Python 3",
   "language": "python",
   "name": "python3"
  },
  "language_info": {
   "codemirror_mode": {
    "name": "ipython",
    "version": 3
   },
   "file_extension": ".py",
   "mimetype": "text/x-python",
   "name": "python",
   "nbconvert_exporter": "python",
   "pygments_lexer": "ipython3",
   "version": "3.8.2"
  }
 },
 "nbformat": 4,
 "nbformat_minor": 5
}
