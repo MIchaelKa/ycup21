{
 "cells": [
  {
   "cell_type": "code",
   "execution_count": 2,
   "id": "arctic-return",
   "metadata": {},
   "outputs": [
    {
     "name": "stdout",
     "output_type": "stream",
     "text": [
      "images.json   metadata.json setup.ipynb\r\n"
     ]
    }
   ],
   "source": [
    "!ls"
   ]
  },
  {
   "cell_type": "code",
   "execution_count": 3,
   "id": "center-calculation",
   "metadata": {},
   "outputs": [],
   "source": [
    "import json\n",
    "import os\n",
    "\n",
    "import requests\n",
    "from io import BytesIO\n",
    "from PIL import Image"
   ]
  },
  {
   "cell_type": "code",
   "execution_count": 47,
   "id": "greek-battlefield",
   "metadata": {},
   "outputs": [],
   "source": [
    "import time\n",
    "import datetime\n",
    "\n",
    "def format_time(elapsed):\n",
    "    '''\n",
    "    Takes a time in seconds and returns a string hh:mm:ss\n",
    "    '''\n",
    "    # Round to the nearest second.\n",
    "    elapsed_rounded = int(round((elapsed)))\n",
    "    \n",
    "    # Format as hh:mm:ss\n",
    "    return str(datetime.timedelta(seconds=elapsed_rounded))"
   ]
  },
  {
   "cell_type": "code",
   "execution_count": 45,
   "id": "ceramic-authorization",
   "metadata": {},
   "outputs": [],
   "source": [
    "import warnings\n",
    "\n",
    "warnings.filterwarnings(\"ignore\")"
   ]
  },
  {
   "cell_type": "code",
   "execution_count": 9,
   "id": "cultural-velvet",
   "metadata": {},
   "outputs": [],
   "source": [
    "with open('images.json') as json_file:\n",
    "    json_strings = json_file.readlines()"
   ]
  },
  {
   "cell_type": "code",
   "execution_count": 19,
   "id": "backed-eligibility",
   "metadata": {},
   "outputs": [
    {
     "data": {
      "text/plain": [
       "5462418"
      ]
     },
     "execution_count": 19,
     "metadata": {},
     "output_type": "execute_result"
    }
   ],
   "source": [
    "len(json_strings)"
   ]
  },
  {
   "cell_type": "code",
   "execution_count": 13,
   "id": "express-throw",
   "metadata": {},
   "outputs": [
    {
     "name": "stdout",
     "output_type": "stream",
     "text": [
      "1 http://static.pleer.ru/i/gp/826/344/norm.jpg\n",
      "2 https://i0.wp.com/allwomens.ru/uploads/posts/2018-01/1515670311_mariya-gorban-10.jpg\n",
      "3 https://99px.ru/sstorage/56/2015/10/image_561810151141106183724.png\n",
      "4 https://grandmirage.ru/5158-large_default/stol-pismennyj-fierta-43-021.jpg\n",
      "5 https://wallpaper-mania.com/wp-content/uploads/2018/09/High_resolution_wallpaper_background_ID_77700295631.jpg\n",
      "6 https://drasler.ru/wp-content/uploads/2019/08/%D0%94%D0%BE%D0%B1%D1%80%D0%BE%D0%B5-%D1%83%D1%82%D1%80%D0%BE-%D0%BA%D0%B0%D1%80%D1%82%D0%B8%D0%BD%D0%BA%D0%B8-%D0%B4%D0%BB%D1%8F-%D0%BC%D1%83%D0%B6%D1%87%D0%B8%D0%BD%D1%8B-%D1%81-%D0%BD%D0%B0%D0%B4%D0%BF%D0%B8%D1%81%D1%8F%D0%BC%D0%B8-%D0%BA%D0%BE%D1%84%D0%B5-30.jpg\n",
      "7 https://static.wikia.nocookie.net/fantasticbeings/images/d/d2/%D0%AE%D1%81%D1%82%D1%80%D0%B8%D1%86%D0%B0.jpg/revision/latest?cb=20200408081506&path-prefix=ru\n",
      "8 https://img-fotki.yandex.ru/get/6512/20839000.3e/0_85e9c_8d598366_orig\n",
      "9 https://avatars.mds.yandex.net/get-zen_doc/2816669/pub_5ece722966f4a548b0e54bad_5ece7385a038ba0adaa501ff/scale_1200\n",
      "10 https://fs01.infourok.ru/images/doc/87/104046/img9.jpg\n"
     ]
    }
   ],
   "source": [
    "for json_string in json_strings[:10]:\n",
    "    image_data = json.loads(json_string)\n",
    "    print(image_data['image'], image_data['url'])"
   ]
  },
  {
   "cell_type": "code",
   "execution_count": 85,
   "id": "distinct-restoration",
   "metadata": {},
   "outputs": [],
   "source": [
    "image_save_path = './images'\n",
    "image_size = 256"
   ]
  },
  {
   "cell_type": "code",
   "execution_count": 20,
   "id": "handy-generic",
   "metadata": {},
   "outputs": [
    {
     "data": {
      "text/plain": [
       "['{\"image\": 1, \"url\": \"http://static.pleer.ru/i/gp/826/344/norm.jpg\"}\\n',\n",
       " '{\"image\": 2, \"url\": \"https://i0.wp.com/allwomens.ru/uploads/posts/2018-01/1515670311_mariya-gorban-10.jpg\"}\\n',\n",
       " '{\"image\": 3, \"url\": \"https://99px.ru/sstorage/56/2015/10/image_561810151141106183724.png\"}\\n',\n",
       " '{\"image\": 4, \"url\": \"https://grandmirage.ru/5158-large_default/stol-pismennyj-fierta-43-021.jpg\"}\\n',\n",
       " '{\"image\": 5, \"url\": \"https://wallpaper-mania.com/wp-content/uploads/2018/09/High_resolution_wallpaper_background_ID_77700295631.jpg\"}\\n',\n",
       " '{\"image\": 6, \"url\": \"https://drasler.ru/wp-content/uploads/2019/08/%D0%94%D0%BE%D0%B1%D1%80%D0%BE%D0%B5-%D1%83%D1%82%D1%80%D0%BE-%D0%BA%D0%B0%D1%80%D1%82%D0%B8%D0%BD%D0%BA%D0%B8-%D0%B4%D0%BB%D1%8F-%D0%BC%D1%83%D0%B6%D1%87%D0%B8%D0%BD%D1%8B-%D1%81-%D0%BD%D0%B0%D0%B4%D0%BF%D0%B8%D1%81%D1%8F%D0%BC%D0%B8-%D0%BA%D0%BE%D1%84%D0%B5-30.jpg\"}\\n',\n",
       " '{\"image\": 7, \"url\": \"https://static.wikia.nocookie.net/fantasticbeings/images/d/d2/%D0%AE%D1%81%D1%82%D1%80%D0%B8%D1%86%D0%B0.jpg/revision/latest?cb=20200408081506&path-prefix=ru\"}\\n',\n",
       " '{\"image\": 8, \"url\": \"https://img-fotki.yandex.ru/get/6512/20839000.3e/0_85e9c_8d598366_orig\"}\\n',\n",
       " '{\"image\": 9, \"url\": \"https://avatars.mds.yandex.net/get-zen_doc/2816669/pub_5ece722966f4a548b0e54bad_5ece7385a038ba0adaa501ff/scale_1200\"}\\n',\n",
       " '{\"image\": 10, \"url\": \"https://fs01.infourok.ru/images/doc/87/104046/img9.jpg\"}\\n']"
      ]
     },
     "execution_count": 20,
     "metadata": {},
     "output_type": "execute_result"
    }
   ],
   "source": [
    "json_strings[:10]"
   ]
  },
  {
   "cell_type": "code",
   "execution_count": 82,
   "id": "posted-timing",
   "metadata": {},
   "outputs": [],
   "source": [
    "index_to_remove = [12, 40, 57, 78, 88, 96, 97]"
   ]
  },
  {
   "cell_type": "code",
   "execution_count": 83,
   "id": "according-wilson",
   "metadata": {},
   "outputs": [],
   "source": [
    "json_strings_reduced = [json_string for index, json_string in enumerate(json_strings[:100]) if index not in index_to_remove]"
   ]
  },
  {
   "cell_type": "code",
   "execution_count": 84,
   "id": "constant-reach",
   "metadata": {},
   "outputs": [
    {
     "data": {
      "text/plain": [
       "93"
      ]
     },
     "execution_count": 84,
     "metadata": {},
     "output_type": "execute_result"
    }
   ],
   "source": [
    "len(json_strings_reduced)"
   ]
  },
  {
   "cell_type": "code",
   "execution_count": 92,
   "id": "recorded-hardware",
   "metadata": {},
   "outputs": [
    {
     "name": "stdout",
     "output_type": "stream",
     "text": [
      "loading finished for: 0:02:45\n"
     ]
    }
   ],
   "source": [
    "t0 = time.time()\n",
    "\n",
    "for index, json_string in enumerate(json_strings[:100]):\n",
    "    \n",
    "    if index in index_to_remove:\n",
    "        continue\n",
    "    \n",
    "    t1 = time.time()\n",
    "    \n",
    "    image_json = json.loads(json_string)\n",
    "    \n",
    "#     print(index, image_json['image'], image_json['url'])\n",
    "      \n",
    "    image_id = image_json['image']\n",
    "    image_name = f'image_{image_id}.jpg'\n",
    "      \n",
    "    try:\n",
    "        r = requests.get(image_json['url'], verify=False)\n",
    "    except requests.exceptions.RequestException as e:  # This is the correct syntax\n",
    "        print('Image couldn\\'t be retreived: ', index, image_name, e, format_time(time.time() - t1))\n",
    "        continue\n",
    "       \n",
    "    if r.status_code == 200:\n",
    "#         print('Image sucessfully downloaded: ', index, image_name, format_time(time.time() - t1))\n",
    "#         with open(os.path.join(image_save_path, image_name), 'wb') as handler:\n",
    "#             handler.write(r.content)\n",
    "\n",
    "        image = Image.open(BytesIO(r.content))\n",
    "        image = image.convert('RGB')\n",
    "#         image = image.resize((image_size, image_size))\n",
    "        image.thumbnail((image_size, image_size))\n",
    "        image.save(os.path.join(image_save_path, image_name))\n",
    "    else:\n",
    "        print('Image couldn\\'t be retreived: ', index, image_name, r.status_code, format_time(time.time() - t1))\n",
    "        \n",
    "        \n",
    "print('loading finished for: {}'.format(format_time(time.time() - t0)))"
   ]
  },
  {
   "cell_type": "code",
   "execution_count": null,
   "id": "excessive-actor",
   "metadata": {},
   "outputs": [],
   "source": [
    "# 1_00 - 1MB\n",
    "# 1_000_000 - 10GB"
   ]
  },
  {
   "cell_type": "code",
   "execution_count": null,
   "id": "everyday-multiple",
   "metadata": {},
   "outputs": [],
   "source": [
    "# 12 13 402 error\n",
    "# 19 21 SSLCertVerificationError https://stackoverflow.com/questions/10667960/python-requests-throwing-sslerror\n",
    "# 40 44 ConnectionResetError\n",
    "#"
   ]
  },
  {
   "cell_type": "code",
   "execution_count": 68,
   "id": "lyric-jaguar",
   "metadata": {},
   "outputs": [
    {
     "name": "stdout",
     "output_type": "stream",
     "text": [
      "6 https://drasler.ru/wp-content/uploads/2019/08/%D0%94%D0%BE%D0%B1%D1%80%D0%BE%D0%B5-%D1%83%D1%82%D1%80%D0%BE-%D0%BA%D0%B0%D1%80%D1%82%D0%B8%D0%BD%D0%BA%D0%B8-%D0%B4%D0%BB%D1%8F-%D0%BC%D1%83%D0%B6%D1%87%D0%B8%D0%BD%D1%8B-%D1%81-%D0%BD%D0%B0%D0%B4%D0%BF%D0%B8%D1%81%D1%8F%D0%BC%D0%B8-%D0%BA%D0%BE%D1%84%D0%B5-30.jpg\n"
     ]
    }
   ],
   "source": [
    "json_string = json_strings[5]\n",
    "image_json = json.loads(json_string)\n",
    "print(image_json['image'], image_json['url'])"
   ]
  },
  {
   "cell_type": "code",
   "execution_count": 69,
   "id": "nonprofit-struggle",
   "metadata": {},
   "outputs": [],
   "source": [
    "try:\n",
    "    r = requests.get(image_json['url'], verify=False)\n",
    "except requests.exceptions.RequestException as e:  # This is the correct syntax\n",
    "    print(e)"
   ]
  },
  {
   "cell_type": "code",
   "execution_count": 70,
   "id": "tight-injury",
   "metadata": {},
   "outputs": [
    {
     "data": {
      "text/plain": [
       "200"
      ]
     },
     "execution_count": 70,
     "metadata": {},
     "output_type": "execute_result"
    }
   ],
   "source": [
    "r.status_code"
   ]
  },
  {
   "cell_type": "code",
   "execution_count": 61,
   "id": "dressed-solution",
   "metadata": {},
   "outputs": [],
   "source": [
    "import numpy as np"
   ]
  },
  {
   "cell_type": "code",
   "execution_count": 71,
   "id": "diverse-hunter",
   "metadata": {},
   "outputs": [],
   "source": [
    "# image = Image.open(requests.get(image_json['url'], verify=False, stream=True).raw)\n",
    "image = Image.open(BytesIO(r.content))"
   ]
  },
  {
   "cell_type": "code",
   "execution_count": 72,
   "id": "exact-analyst",
   "metadata": {},
   "outputs": [
    {
     "data": {
      "text/plain": [
       "(600, 600, 3)"
      ]
     },
     "execution_count": 72,
     "metadata": {},
     "output_type": "execute_result"
    }
   ],
   "source": [
    "np.array(image).shape"
   ]
  },
  {
   "cell_type": "code",
   "execution_count": 74,
   "id": "seeing-locking",
   "metadata": {},
   "outputs": [],
   "source": [
    "# image"
   ]
  },
  {
   "cell_type": "code",
   "execution_count": 64,
   "id": "following-contamination",
   "metadata": {},
   "outputs": [],
   "source": [
    "size = 256\n",
    "# resample = None\n",
    "im = image.resize((size, size))"
   ]
  },
  {
   "cell_type": "code",
   "execution_count": 66,
   "id": "dedicated-houston",
   "metadata": {},
   "outputs": [],
   "source": [
    "im.save(os.path.join(image_save_path, image_name))"
   ]
  },
  {
   "cell_type": "markdown",
   "id": "present-incentive",
   "metadata": {},
   "source": [
    "# Create archive"
   ]
  },
  {
   "cell_type": "code",
   "execution_count": 95,
   "id": "competent-division",
   "metadata": {},
   "outputs": [],
   "source": [
    "!tar -czf ycup21-images-1.tgz {image_save_path}"
   ]
  },
  {
   "cell_type": "code",
   "execution_count": 96,
   "id": "liquid-cartridge",
   "metadata": {},
   "outputs": [
    {
     "name": "stdout",
     "output_type": "stream",
     "text": [
      "-rw-r--r--@ 1 michaelka  staff   805K Sep 29 23:32 ./ycup21-images-1.tgz\r\n"
     ]
    }
   ],
   "source": [
    "!ls -lh ./ycup21-images-1.tgz"
   ]
  },
  {
   "cell_type": "code",
   "execution_count": null,
   "id": "unauthorized-petersburg",
   "metadata": {},
   "outputs": [],
   "source": [
    "# !cp ./ycup21-images-1.tgz {BASE_PATH}"
   ]
  }
 ],
 "metadata": {
  "kernelspec": {
   "display_name": "Python 3",
   "language": "python",
   "name": "python3"
  },
  "language_info": {
   "codemirror_mode": {
    "name": "ipython",
    "version": 3
   },
   "file_extension": ".py",
   "mimetype": "text/x-python",
   "name": "python",
   "nbconvert_exporter": "python",
   "pygments_lexer": "ipython3",
   "version": "3.8.2"
  }
 },
 "nbformat": 4,
 "nbformat_minor": 5
}
