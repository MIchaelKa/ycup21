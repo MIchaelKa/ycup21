{
 "cells": [
  {
   "cell_type": "code",
   "execution_count": 2,
   "id": "complete-yugoslavia",
   "metadata": {},
   "outputs": [],
   "source": [
    "from bpemb import BPEmb"
   ]
  },
  {
   "cell_type": "code",
   "execution_count": 3,
   "id": "powered-murder",
   "metadata": {},
   "outputs": [
    {
     "name": "stdout",
     "output_type": "stream",
     "text": [
      "downloading https://nlp.h-its.org/bpemb/en/en.wiki.bpe.vs10000.model\n"
     ]
    },
    {
     "name": "stderr",
     "output_type": "stream",
     "text": [
      "100%|██████████| 400869/400869 [00:00<00:00, 1852914.87B/s]\n"
     ]
    },
    {
     "name": "stdout",
     "output_type": "stream",
     "text": [
      "downloading https://nlp.h-its.org/bpemb/en/en.wiki.bpe.vs10000.d100.w2v.bin.tar.gz\n"
     ]
    },
    {
     "name": "stderr",
     "output_type": "stream",
     "text": [
      "100%|██████████| 3784656/3784656 [00:01<00:00, 2346436.24B/s]\n"
     ]
    }
   ],
   "source": [
    "bpemb_en = BPEmb(lang=\"en\")"
   ]
  },
  {
   "cell_type": "code",
   "execution_count": 4,
   "id": "liquid-investigation",
   "metadata": {},
   "outputs": [
    {
     "data": {
      "text/plain": [
       "['▁strat', 'ford']"
      ]
     },
     "execution_count": 4,
     "metadata": {},
     "output_type": "execute_result"
    }
   ],
   "source": [
    "bpemb_en.encode(\"Stratford\")"
   ]
  },
  {
   "cell_type": "code",
   "execution_count": 8,
   "id": "removable-beach",
   "metadata": {},
   "outputs": [
    {
     "data": {
      "text/plain": [
       "[8526, 1221]"
      ]
     },
     "execution_count": 8,
     "metadata": {},
     "output_type": "execute_result"
    }
   ],
   "source": [
    "bpemb_en.encode_ids(\"Stratford\")"
   ]
  },
  {
   "cell_type": "code",
   "execution_count": 5,
   "id": "blind-bumper",
   "metadata": {},
   "outputs": [
    {
     "data": {
      "text/plain": [
       "(10000, 100)"
      ]
     },
     "execution_count": 5,
     "metadata": {},
     "output_type": "execute_result"
    }
   ],
   "source": [
    "bpemb_en.vectors.shape"
   ]
  },
  {
   "cell_type": "code",
   "execution_count": 22,
   "id": "breathing-decrease",
   "metadata": {},
   "outputs": [
    {
     "data": {
      "text/plain": [
       "['▁', 'о', 'г', 'о', 'р', 'о', 'д']"
      ]
     },
     "execution_count": 22,
     "metadata": {},
     "output_type": "execute_result"
    }
   ],
   "source": [
    "bpemb_en.encode(\"Огород\")"
   ]
  },
  {
   "cell_type": "code",
   "execution_count": 7,
   "id": "knowing-frederick",
   "metadata": {},
   "outputs": [
    {
     "name": "stdout",
     "output_type": "stream",
     "text": [
      "downloading https://nlp.h-its.org/bpemb/ru/ru.wiki.bpe.vs200000.model\n"
     ]
    },
    {
     "name": "stderr",
     "output_type": "stream",
     "text": [
      "100%|██████████| 5203704/5203704 [00:01<00:00, 3158593.60B/s]\n"
     ]
    },
    {
     "name": "stdout",
     "output_type": "stream",
     "text": [
      "downloading https://nlp.h-its.org/bpemb/ru/ru.wiki.bpe.vs200000.d200.w2v.bin.tar.gz\n"
     ]
    },
    {
     "name": "stderr",
     "output_type": "stream",
     "text": [
      "100%|██████████| 150805985/150805985 [00:47<00:00, 3159596.48B/s]\n"
     ]
    }
   ],
   "source": [
    "embedding_size: int = 200\n",
    "vocab_size: int = 200000\n",
    "\n",
    "bpemb_ru = BPEmb(lang=\"ru\", dim=embedding_size, vs=vocab_size)"
   ]
  },
  {
   "cell_type": "code",
   "execution_count": 14,
   "id": "electrical-mobility",
   "metadata": {},
   "outputs": [
    {
     "data": {
      "text/plain": [
       "(200000, 200)"
      ]
     },
     "execution_count": 14,
     "metadata": {},
     "output_type": "execute_result"
    }
   ],
   "source": [
    "bpemb_ru.vectors.shape"
   ]
  },
  {
   "cell_type": "code",
   "execution_count": 12,
   "id": "atlantic-warren",
   "metadata": {},
   "outputs": [
    {
     "data": {
      "text/plain": [
       "['▁огород']"
      ]
     },
     "execution_count": 12,
     "metadata": {},
     "output_type": "execute_result"
    }
   ],
   "source": [
    "bpemb_ru.encode(\"огород\")"
   ]
  },
  {
   "cell_type": "code",
   "execution_count": 11,
   "id": "excellent-valentine",
   "metadata": {},
   "outputs": [
    {
     "data": {
      "text/plain": [
       "['▁собака']"
      ]
     },
     "execution_count": 11,
     "metadata": {},
     "output_type": "execute_result"
    }
   ],
   "source": [
    "bpemb_ru.encode(\"собака\")"
   ]
  },
  {
   "cell_type": "code",
   "execution_count": 13,
   "id": "studied-bermuda",
   "metadata": {},
   "outputs": [
    {
     "data": {
      "text/plain": [
       "['▁стратос', 'фера']"
      ]
     },
     "execution_count": 13,
     "metadata": {},
     "output_type": "execute_result"
    }
   ],
   "source": [
    "bpemb_ru.encode(\"стратосфера\")"
   ]
  },
  {
   "cell_type": "code",
   "execution_count": 15,
   "id": "experienced-supplier",
   "metadata": {},
   "outputs": [
    {
     "data": {
      "text/plain": [
       "[23692]"
      ]
     },
     "execution_count": 15,
     "metadata": {},
     "output_type": "execute_result"
    }
   ],
   "source": [
    "bpemb_ru.encode_ids(\"собака\")"
   ]
  },
  {
   "cell_type": "code",
   "execution_count": 17,
   "id": "abandoned-sword",
   "metadata": {},
   "outputs": [
    {
     "data": {
      "text/plain": [
       "(200,)"
      ]
     },
     "execution_count": 17,
     "metadata": {},
     "output_type": "execute_result"
    }
   ],
   "source": [
    "bpemb_ru.vectors[23692].shape"
   ]
  },
  {
   "cell_type": "code",
   "execution_count": 21,
   "id": "synthetic-radiation",
   "metadata": {},
   "outputs": [
    {
     "data": {
      "text/plain": [
       "['▁strat', 'ford']"
      ]
     },
     "execution_count": 21,
     "metadata": {},
     "output_type": "execute_result"
    }
   ],
   "source": [
    "bpemb_ru.encode(\"Stratford\")"
   ]
  },
  {
   "cell_type": "code",
   "execution_count": 23,
   "id": "smaller-tracker",
   "metadata": {},
   "outputs": [
    {
     "data": {
      "text/plain": [
       "[35045, 11897]"
      ]
     },
     "execution_count": 23,
     "metadata": {},
     "output_type": "execute_result"
    }
   ],
   "source": [
    "bpemb_ru.encode_ids(\"Stratford\")"
   ]
  },
  {
   "cell_type": "code",
   "execution_count": 18,
   "id": "capital-lyric",
   "metadata": {},
   "outputs": [],
   "source": [
    "from torch import nn, tensor"
   ]
  },
  {
   "cell_type": "code",
   "execution_count": 19,
   "id": "eight-banner",
   "metadata": {},
   "outputs": [],
   "source": [
    "emb_layer = nn.Embedding.from_pretrained(tensor(bpemb_en.vectors))"
   ]
  },
  {
   "cell_type": "code",
   "execution_count": 20,
   "id": "early-pipeline",
   "metadata": {},
   "outputs": [
    {
     "data": {
      "text/plain": [
       "Embedding(10000, 100)"
      ]
     },
     "execution_count": 20,
     "metadata": {},
     "output_type": "execute_result"
    }
   ],
   "source": [
    "emb_layer"
   ]
  },
  {
   "cell_type": "markdown",
   "id": "considerable-grocery",
   "metadata": {},
   "source": [
    "# Try to read labels"
   ]
  },
  {
   "cell_type": "code",
   "execution_count": 35,
   "id": "associate-government",
   "metadata": {},
   "outputs": [],
   "source": [
    "import os\n",
    "import json"
   ]
  },
  {
   "cell_type": "code",
   "execution_count": 24,
   "id": "systematic-armor",
   "metadata": {},
   "outputs": [
    {
     "name": "stdout",
     "output_type": "stream",
     "text": [
      "/Users/michaelka/Developer/ml/projects/ycup21\r\n"
     ]
    }
   ],
   "source": [
    "!pwd"
   ]
  },
  {
   "cell_type": "code",
   "execution_count": 30,
   "id": "cultural-baseline",
   "metadata": {},
   "outputs": [
    {
     "name": "stdout",
     "output_type": "stream",
     "text": [
      "\u001b[34mcaltech101\u001b[m\u001b[m \u001b[34mcaltech256\u001b[m\u001b[m\r\n"
     ]
    }
   ],
   "source": [
    "!ls ~/Developer/ml/projects/mlcup/cv/contest/data/datasets"
   ]
  },
  {
   "cell_type": "code",
   "execution_count": 31,
   "id": "reserved-therapist",
   "metadata": {},
   "outputs": [],
   "source": [
    "data_directory = '/Users/michaelka/Developer/ml/projects/mlcup/cv/contest/data/datasets'"
   ]
  },
  {
   "cell_type": "code",
   "execution_count": 32,
   "id": "buried-corps",
   "metadata": {},
   "outputs": [
    {
     "data": {
      "text/plain": [
       "['caltech101', 'caltech256']"
      ]
     },
     "execution_count": 32,
     "metadata": {},
     "output_type": "execute_result"
    }
   ],
   "source": [
    "datasets = os.listdir(data_directory)\n",
    "datasets"
   ]
  },
  {
   "cell_type": "code",
   "execution_count": 33,
   "id": "horizontal-surfing",
   "metadata": {},
   "outputs": [],
   "source": [
    "dataset = datasets[0]"
   ]
  },
  {
   "cell_type": "code",
   "execution_count": 36,
   "id": "dominant-discretion",
   "metadata": {},
   "outputs": [],
   "source": [
    "with open(f\"{data_directory}/{dataset}/classes.json\", 'r') as f:\n",
    "    classes_labels = json.load(f)"
   ]
  },
  {
   "cell_type": "code",
   "execution_count": 37,
   "id": "dominant-investing",
   "metadata": {},
   "outputs": [
    {
     "data": {
      "text/plain": [
       "['инь и янь',\n",
       " 'лампа',\n",
       " 'вертолет',\n",
       " 'электрогитара',\n",
       " 'фотоаппарат',\n",
       " 'зонтик',\n",
       " 'ножницы',\n",
       " 'револьвер',\n",
       " 'часы',\n",
       " 'ролики',\n",
       " 'гаечный ключ',\n",
       " 'кружка',\n",
       " 'подсолнух',\n",
       " 'бабочка',\n",
       " 'мотоцикл',\n",
       " 'самолет',\n",
       " 'слон',\n",
       " 'краб',\n",
       " 'крокодил']"
      ]
     },
     "execution_count": 37,
     "metadata": {},
     "output_type": "execute_result"
    }
   ],
   "source": [
    "classes_labels"
   ]
  },
  {
   "cell_type": "code",
   "execution_count": null,
   "id": "casual-transsexual",
   "metadata": {},
   "outputs": [],
   "source": []
  }
 ],
 "metadata": {
  "kernelspec": {
   "display_name": "Python 3",
   "language": "python",
   "name": "python3"
  },
  "language_info": {
   "codemirror_mode": {
    "name": "ipython",
    "version": 3
   },
   "file_extension": ".py",
   "mimetype": "text/x-python",
   "name": "python",
   "nbconvert_exporter": "python",
   "pygments_lexer": "ipython3",
   "version": "3.8.2"
  }
 },
 "nbformat": 4,
 "nbformat_minor": 5
}
